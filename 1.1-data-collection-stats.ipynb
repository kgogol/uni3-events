{
 "cells": [
  {
   "cell_type": "code",
   "execution_count": 1,
   "metadata": {},
   "outputs": [],
   "source": [
    "import os\n",
    "from tqdm.notebook import tqdm\n",
    "import polars as pl\n",
    "import json\n",
    "import plotly.graph_objects as go\n",
    "\n"
   ]
  },
  {
   "cell_type": "code",
   "execution_count": 2,
   "metadata": {},
   "outputs": [],
   "source": [
    "# Existing dataset dir\n",
    "data_dir = './data/'\n",
    "\n",
    "# Existing plots dir\n",
    "plots_dir = data_dir+'/plots/'\n",
    "os.makedirs(data_dir, exist_ok=True)\n",
    "os.makedirs(plots_dir, exist_ok=True)\n",
    "\n"
   ]
  },
  {
   "cell_type": "code",
   "execution_count": 3,
   "metadata": {},
   "outputs": [],
   "source": [
    "def process_swaps(file_name):\n",
    "    # Load the parquet file\n",
    "    swaps_df = pl.scan_parquet(file_name).collect(streaming=True)\n",
    "\n",
    "    # Calculate required metrics\n",
    "    unique = swaps_df['transaction_hash'].n_unique()\n",
    "    swaps = swaps_df['transaction_hash'].shape[0]\n",
    "    block_numbers = swaps_df['block_number'].n_unique()\n",
    "    avgInBlock = swaps / block_numbers\n",
    "    minBlock = swaps_df['block_number'].min()\n",
    "    maxBlock = swaps_df['block_number'].max()\n",
    "    total_block =  maxBlock - minBlock\n",
    "    minTimestamp = swaps_df['block_timestamp'].min()\n",
    "    maxTimestamp = swaps_df['block_timestamp'].max()\n",
    "    avgBlockTime = (maxTimestamp - minTimestamp).total_seconds() / (maxBlock - minBlock)\n",
    "\n",
    "    # Create formatted string\n",
    "    my_row = f\"\\\\num{{{swaps}}} & \\\\num{{{unique}}} & \\\\num{{{block_numbers}}} & \\\\num{{{minBlock}}}--\\\\num{{{maxBlock}}} & \\\\num{{{avgInBlock:.2f}}} & {avgBlockTime:.2f}s\"\n",
    "    my_row = minTimestamp.strftime('%Y%m%d')+\" - \"+maxTimestamp.strftime('%Y%m%d')\n",
    "\n",
    "    return my_row\n",
    "\n",
    "def process_swaps_1(file_name):\n",
    "    # Load the parquet file\n",
    "    swaps_df = pl.scan_parquet(file_name).collect(streaming=True)\n",
    "\n",
    "    # Calculate required metrics\n",
    "    unique = swaps_df['transaction_hash'].n_unique()\n",
    "    swaps = swaps_df['transaction_hash'].shape[0]\n",
    "    block_numbers = swaps_df['block_number'].n_unique()\n",
    "    avgInBlock = swaps / block_numbers\n",
    "    minBlock = swaps_df['block_number'].min()\n",
    "    maxBlock = swaps_df['block_number'].max()\n",
    "    total_block =  maxBlock - minBlock\n",
    "    avgInBlock2 = swaps / total_block\n",
    "    minTimestamp = swaps_df['block_timestamp'].min()\n",
    "    maxTimestamp = swaps_df['block_timestamp'].max()\n",
    "    avgBlockTime = (maxTimestamp - minTimestamp).total_seconds() / (total_block)\n",
    "    swapPerTransaction = swaps / unique\n",
    "\n",
    "    # Create formatted string\n",
    "    my_row = f\"{avgBlockTime:.2f}s & \\\\num{{{avgInBlock2:.2f}}} & \\\\num{{{swapPerTransaction:.2f}}}  & \\\\num{{{avgInBlock:.2f}}} \"\n",
    "\n",
    "    return my_row\n"
   ]
  },
  {
   "cell_type": "code",
   "execution_count": 4,
   "metadata": {},
   "outputs": [],
   "source": [
    "file_name = \"./data/raw-data-arbitrum-Uniswap-v3-WETH-USDC.paraquet\"\n",
    "swaps_df = pl.scan_parquet(file_name).collect(streaming=True)\n",
    "\n",
    "# Calculate required metrics\n",
    "unique = swaps_df['transaction_hash'].n_unique()\n",
    "swaps = swaps_df['transaction_hash'].shape[0]\n",
    "block_numbers = swaps_df['block_number'].n_unique()\n",
    "avgInBlock = swaps / block_numbers\n",
    "minBlock = swaps_df['block_number'].min()\n",
    "maxBlock = swaps_df['block_number'].max()\n",
    "total_block =  maxBlock - minBlock\n",
    "minTimestamp = swaps_df['block_timestamp'].min()\n",
    "maxTimestamp = swaps_df['block_timestamp'].max()\n",
    "avgBlockTime = (maxTimestamp - minTimestamp).total_seconds() / (maxBlock - minBlock)\n",
    "\n",
    "# Create formatted string\n",
    "my_row = f\"\\\\num{{{swaps}}} & \\\\num{{{unique}}} & \\\\num{{{block_numbers}}} & \\\\num{{{minBlock}}}--\\\\num{{{maxBlock}}} & \\\\num{{{avgInBlock:.2f}}} & {avgBlockTime:.2f}s\"\n"
   ]
  },
  {
   "cell_type": "code",
   "execution_count": 5,
   "metadata": {},
   "outputs": [
    {
     "data": {
      "text/plain": [
       "'\\\\num{2400000} & \\\\num{2367361} & \\\\num{1709619} & \\\\num{187373628}--\\\\num{206540031} & \\\\num{1.40} & 0.25s'"
      ]
     },
     "execution_count": 5,
     "metadata": {},
     "output_type": "execute_result"
    }
   ],
   "source": [
    "my_row"
   ]
  },
  {
   "cell_type": "code",
   "execution_count": 6,
   "metadata": {},
   "outputs": [
    {
     "name": "stdout",
     "output_type": "stream",
     "text": [
      "20240101 - 20240430\n"
     ]
    }
   ],
   "source": [
    "file_name = \"./data/raw-data-ethereum-Uniswap-v3-WETH-USDC.paraquet\"\n",
    "result = process_swaps(file_name)\n",
    "print(result)"
   ]
  },
  {
   "cell_type": "code",
   "execution_count": 7,
   "metadata": {},
   "outputs": [
    {
     "name": "stdout",
     "output_type": "stream",
     "text": [
      "20240305 - 20240430\n"
     ]
    }
   ],
   "source": [
    "file_name = \"./data/raw-data-arbitrum-Uniswap-v3-WETH-USDC.paraquet\"\n",
    "result = process_swaps(file_name)\n",
    "print(result)"
   ]
  },
  {
   "cell_type": "code",
   "execution_count": 38,
   "metadata": {},
   "outputs": [
    {
     "name": "stdout",
     "output_type": "stream",
     "text": [
      "20240101 - 20240430\n"
     ]
    }
   ],
   "source": [
    "file_name = \"./data/raw-data-arbitrum-Uniswap-v3-WETH-USDCe.paraquet\"\n",
    "result = process_swaps(file_name)\n",
    "print(result)"
   ]
  },
  {
   "cell_type": "code",
   "execution_count": 39,
   "metadata": {},
   "outputs": [
    {
     "name": "stdout",
     "output_type": "stream",
     "text": [
      "20240101 - 20240430\n"
     ]
    }
   ],
   "source": [
    "file_name = \"./data/raw-data-base-Uniswap-v3-WETH-USDC.paraquet\"\n",
    "result = process_swaps(file_name)\n",
    "print(result)"
   ]
  },
  {
   "cell_type": "code",
   "execution_count": 40,
   "metadata": {},
   "outputs": [
    {
     "name": "stdout",
     "output_type": "stream",
     "text": [
      "20240101 - 20240430\n"
     ]
    }
   ],
   "source": [
    "file_name = \"./data/raw-data-optimism-Uniswap-v3-WETH-USDC.paraquet\"\n",
    "result = process_swaps(file_name)\n",
    "print(result)"
   ]
  },
  {
   "cell_type": "code",
   "execution_count": 41,
   "metadata": {},
   "outputs": [
    {
     "name": "stdout",
     "output_type": "stream",
     "text": [
      "20240101 - 20240430\n"
     ]
    }
   ],
   "source": [
    "file_name = \"./data/raw-data-zkSync-Uniswap-v3-WETH-USDC.paraquet\"\n",
    "result = process_swaps(file_name)\n",
    "print(result)"
   ]
  },
  {
   "cell_type": "code",
   "execution_count": 42,
   "metadata": {},
   "outputs": [
    {
     "name": "stdout",
     "output_type": "stream",
     "text": [
      "20240429 - 20240430\n"
     ]
    }
   ],
   "source": [
    "file_name = \"./data/raw-data-zkSync-SyncSwap-WETH-USDCe.paraquet\"\n",
    "result = process_swaps(file_name)\n",
    "print(result)"
   ]
  }
 ],
 "metadata": {
  "kernelspec": {
   "display_name": "Python 3",
   "language": "python",
   "name": "python3"
  },
  "language_info": {
   "codemirror_mode": {
    "name": "ipython",
    "version": 3
   },
   "file_extension": ".py",
   "mimetype": "text/x-python",
   "name": "python",
   "nbconvert_exporter": "python",
   "pygments_lexer": "ipython3",
   "version": "3.9.6"
  },
  "orig_nbformat": 4
 },
 "nbformat": 4,
 "nbformat_minor": 2
}
