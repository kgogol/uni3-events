{
 "cells": [
  {
   "cell_type": "code",
   "execution_count": 1,
   "metadata": {},
   "outputs": [],
   "source": [
    "import os\n",
    "from tqdm.notebook import tqdm\n",
    "import polars as pl\n",
    "import numpy as np\n",
    "import matplotlib.pyplot as plt\n",
    "import matplotlib.gridspec as gridspec\n",
    "import matplotlib.pyplot as plt\n",
    "import seaborn as sns\n"
   ]
  },
  {
   "cell_type": "code",
   "execution_count": 2,
   "metadata": {},
   "outputs": [],
   "source": [
    "# Existing dataset dir\n",
    "data_dir = './data/'\n",
    "\n",
    "# Existing plots dir\n",
    "plots_dir = data_dir+'/plots/'\n",
    "os.makedirs(data_dir, exist_ok=True)\n",
    "os.makedirs(plots_dir, exist_ok=True)\n"
   ]
  },
  {
   "cell_type": "code",
   "execution_count": 3,
   "metadata": {},
   "outputs": [],
   "source": [
    "colors = {'red': '#ee443a', 'blue': '#42bbf1', 'dark_blue': '#1a4fec',\n",
    "          'green': '#50be61', 'grey': '#b7b7b7', 'orange': '#f28222', 'purple': '#6e18ee', 'brown': '#a65628', 'pink': '#ef4793',\n",
    "          'yellow': '#f8c94c', 'black': '#000000', 'white': '#ffffff', 'light_blue': '#a6cee3', 'light_green': '#b2df8a',\n",
    "          'light_grey': '#999999', 'light_orange': '#fdbf6f', 'light_purple': '#cab2d6', 'light_brown': '#ffff99', 'light_pink': '#1f78b4',\n",
    "          'light_yellow': '#fb9a99', 'light_black': '#e31a1c', 'light_white': '#33a02c', 'gold': '#ff7f00', 'silver': '#b2df8a'}\n",
    "\n",
    "\n",
    "plot_settings = {\n",
    "    'arbitrum': {'color': colors['blue'],   'label': 'Arbitrum', 'style': 'solid', 'width': 4, 'marker_symbol': 'circle'},\n",
    "    'base': {'color': colors['red'],        'label': 'Base', 'style': 'dash', 'width': 3.5, 'marker_symbol': 'diamond'},\n",
    "    'ethereum': {'color': colors['green'],  'label': 'Ethereum', 'style': 'dot', 'width': 3, 'marker_symbol': 'square'},\n",
    "    'optimism': {'color': colors['grey'],   'label': 'Optimism', 'style': 'dashdot', 'width': 2.5, 'marker_symbol': 'triangle-up'},\n",
    "    'zksync': {'color': colors['pink'],     'label': 'zkSync', 'style': 'solid', 'width': 2, 'marker_symbol': 'cross'},\n",
    "    'arbitrum2': {'color': colors['brown'],    'label': 'Fantom', 'style': 'dash', 'width': 1.5, 'marker_symbol': 'star'},\n",
    "}\n",
    "\n",
    "file_settings = {\n",
    "    'ethereum': {  'nr': '1', 'file_name': './data/mav-ethereum-Uniswap-v3-WETH-USDC.paraquet' , 'output_file': './data/mav2-ethereum-Uniswap-v3-WETH-USDC.paraquet' },\n",
    "    'arbitrum': {  'nr': '2', 'file_name': './data/mav-arbitrum-Uniswap-v3-WETH-USDC.paraquet' , 'output_file': './data/mav2-arbitrum-Uniswap-v3-WETH-USDC.paraquet'},\n",
    "    'arbitrum2': { 'nr': '3', 'file_name': './data/mav-arbitrum-Uniswap-v3-WETH-USDCe.paraquet', 'output_file': './data/mav2-arbitrum-Uniswap-v3-WETH-USDCe.paraquet'},\n",
    "    'base': {      'nr': '4', 'file_name': './data/mav-base-Uniswap-v3-WETH-USDC.paraquet'     , 'output_file': './data/mav2-base-Uniswap-v3-WETH-USDC.paraquet'},\n",
    "    'optimism': {  'nr': '5', 'file_name': './data/mav-optimism-Uniswap-v3-WETH-USDC.paraquet' , 'output_file': './data/mav2-optimism-Uniswap-v3-WETH-USDC.paraquet'},\n",
    "    'zksync': {    'nr': '6', 'file_name': './data/mav-zksync-Uniswap-v3-WETH-USDC.paraquet'   , 'output_file': './data/mav2-zksync-Uniswap-v3-WETH-USDC.paraquet' } ,\n",
    "}\n",
    "\n",
    "columns = [\"Binance\",\"Ethereum\",\"Arbitrum\",\"Arbitrum(e)\",\"Base\", \"Optimism(e)\", \"zkSync(e)\"]\n",
    "price_diff_matrix = np.zeros((7, 7))\n",
    "MAV_matrix = np.zeros((7, 7))"
   ]
  },
  {
   "cell_type": "code",
   "execution_count": 4,
   "metadata": {},
   "outputs": [],
   "source": [
    "\n",
    "def calculateV_MAX2(reserves_y, price_AMM, price_CEX):\n",
    "    return abs((reserves_y * (price_AMM - price_CEX) / (2 * price_AMM)))\n",
    "\n",
    "def calculateMAV2(reserves_y, price_AMM, price_CEX, A):\n",
    "    return (reserves_y * (price_AMM - price_CEX) ** 2 / (4 * price_AMM))\n",
    "\n",
    "def calculateV_MAX(reserves_y_1, price_AMM_1, reserves_y_2, price_AMM_2):\n",
    "    return abs(( (price_AMM_1 - price_AMM_2) / (2 * ( price_AMM_1 / reserves_y_1 + price_AMM_2 / reserves_y_2  ))))\n",
    "\n",
    "def calculateMAV(reserves_y_1, price_AMM_1, price_AMM_2, reserves_y_2):\n",
    "   return ((price_AMM_1 - price_AMM_2) ** 2 / (4 * ( price_AMM_1 / reserves_y_1 + price_AMM_2 / reserves_y_2 )))"
   ]
  },
  {
   "cell_type": "code",
   "execution_count": 5,
   "metadata": {},
   "outputs": [],
   "source": [
    "def process_swaps(swaps_df, suffix):\n",
    "\n",
    "\n",
    "    swaps_df = swaps_df.drop('volume_total_USD', 'balance_total_USD', 'LP_Fee_USD', 'LP_Fee_total_USD', 'LP_fee_p', 'block_slippage_USD', 'MAV_USD_right', 'transaction_hash_right', 'block_timestamp_right',\n",
    "                             'price_diff', 'r_price_diff', 'MAV_USD', 'V_max_ETH', 'V_max_USD', 'MAV_threshold', 'MAV_cum_sum', 'MAV_groups')\n",
    "\n",
    "    swaps_df = swaps_df.with_columns(\n",
    "        price_diff = ((pl.col('spot_price') - pl.col('spot_price'+suffix)).abs()) / pl.col('spot_price'+suffix),\n",
    "        r_price_diff = ((pl.col('spot_price') - pl.col('spot_price'+suffix)) / pl.col('spot_price'+suffix)),\n",
    "        #volume_total_USD = pl.col('amount_USD'),\n",
    "        #balance_total_USD = pl.col('amount_USD'),\n",
    "        #LP_Fee_USD = pl.col('amount_USD') * fee / 10000,\n",
    "        #LP_Fee_total_USD = (pl.col('amount_USD') * fee / 10000),\n",
    "        #LP_fee_p = (fee / 10000)\n",
    "    )\n",
    "\n",
    "    #swaps_df = swaps_df.sort(by=['block_number', 'transaction_index'])\n",
    "\n",
    "    #swaps_df = swaps_df.with_columns(pl.col(\"balance_total_USD\").cum_sum().over(\"block_number\").alias(\"block_slippage_USD\"))\n",
    "    #swaps_df = swaps_df.with_columns((pl.col(\"block_slippage_USD\") - pl.col(\"balance_total_USD\")).alias(\"block_slippage_USD\"))\n",
    "\n",
    "    #calulating MAV_0, V_max_0, reserve_total_0, LP_fee_0\n",
    "    swaps_df = swaps_df.with_columns(\n",
    "        MAV_USD = calculateMAV(pl.col('reserve_ETH'), pl.col('spot_price'), pl.col('spot_price'+suffix), pl.col('reserve_ETH'+suffix)),\n",
    "        V_max_ETH = calculateV_MAX(pl.col('reserve_ETH'), pl.col('spot_price'), pl.col('spot_price'+suffix), pl.col('reserve_ETH'+suffix)),\n",
    "        reserve_total_USD = 2 * pl.col('reserve_ETH')\n",
    "    )\n",
    "\n",
    "    swaps_df = swaps_df.with_columns(\n",
    "        V_max_USD = pl.col('V_max_ETH') * pl.col('spot_price'),\n",
    "    )\n",
    "\n",
    "\n",
    "    #calculate threshold for max MAV as  Q3 + 1.5 IQR\n",
    "\n",
    "    data = swaps_df['price_diff']\n",
    "    # Calculate Q1 (25th percentile)\n",
    "    Q1 = np.percentile(data, 25)\n",
    "    # Calculate Q3 (75th percentile)\n",
    "    Q3 = np.percentile(data, 75)\n",
    "    # Calculate the interquartile range (IQR)\n",
    "    IQR = Q3 - Q1\n",
    "    threshold = Q3 #+ 1.5 * IQR\n",
    "    print(\"threshold:\", threshold)\n",
    "    del(data)\n",
    "\n",
    "    swaps_df = swaps_df.with_columns(\n",
    "        MAV_threshold = pl.when(pl.col('price_diff') >  threshold).then(0).otherwise(1)\n",
    "    )\n",
    "    swaps_df = swaps_df.with_columns(\n",
    "        MAV_cum_sum = pl.col('MAV_threshold').cum_sum()\n",
    "    )\n",
    "    swaps_df = swaps_df.with_columns(\n",
    "        MAV_groups = pl.when(pl.col('MAV_threshold') >  0).then(0).otherwise(pl.col('MAV_cum_sum'))\n",
    "    )\n",
    "\n",
    "    # Perform the aggregation\n",
    "    max_MAV_df = swaps_df.group_by('MAV_groups').agg(pl.max(\"MAV_USD\").alias(\"max_MAV_USD\"))\n",
    "\n",
    "    # Join with the original DataFrame to get the corresponding block_timestamp\n",
    "    max_MAV_df = max_MAV_df.join(\n",
    "        swaps_df, on=\"MAV_groups\", how=\"inner\"\n",
    "    ).select([\n",
    "        \"MAV_groups\",\n",
    "        \"max_MAV_USD\",\n",
    "        \"MAV_USD\",\n",
    "        \"transaction_hash\",\n",
    "        \"block_timestamp\"\n",
    "    ]).filter(pl.col(\"MAV_USD\") == pl.col(\"max_MAV_USD\")).filter(pl.col(\"MAV_groups\") != 0)\n",
    "\n",
    "    max_MAV_df = max_MAV_df.group_by('MAV_groups').agg(pl.last(\"max_MAV_USD\"), pl.last(\"transaction_hash\"), pl.last(\"block_timestamp\"))\n",
    "\n",
    "    swaps_df = swaps_df.join(max_MAV_df, on=\"MAV_groups\", how=\"left\")\n",
    "\n",
    "    swaps_df = swaps_df.with_columns(\n",
    "        decay = pl.when(pl.col('block_timestamp') > pl.col('block_timestamp_right'))\n",
    "                .then(pl.col('block_timestamp') - pl.col('block_timestamp_right'))\n",
    "                .otherwise(pl.lit(0)),\n",
    "        max_MAV_USD = pl.when(pl.col('transaction_hash') == pl.col('transaction_hash_right'))\n",
    "                .then(pl.col('MAV_USD'))\n",
    "                .otherwise(pl.lit(0))\n",
    "    )\n",
    "    return swaps_df\n"
   ]
  },
  {
   "cell_type": "code",
   "execution_count": 6,
   "metadata": {},
   "outputs": [
    {
     "name": "stdout",
     "output_type": "stream",
     "text": [
      "loop: 1\n",
      "_2\n",
      "threshold: 0.0005172973168060698\n",
      "29078129.182193108\n",
      "_3\n",
      "threshold: 0.0005135173720700959\n",
      "36274501.7480322\n",
      "_4\n",
      "threshold: 0.001022002420450998\n",
      "9278816.68041543\n",
      "_5\n",
      "threshold: 0.000540012037869631\n",
      "6881640.85308573\n",
      "_6\n",
      "threshold: 0.0031015155899632605\n",
      "312415.21687787\n",
      "loop: 2\n",
      "_1\n",
      "threshold: 0.0005459591667063893\n",
      "18716477.528365128\n",
      "_3\n",
      "threshold: 0.00024453953515300866\n",
      "25514785.336999778\n",
      "_4\n",
      "threshold: 0.0006390810366398603\n",
      "5178739.784265256\n",
      "_5\n",
      "threshold: 0.0003922791627547495\n",
      "1588680.551166657\n",
      "_6\n",
      "threshold: 0.0030551192892305313\n",
      "41710.23610370867\n",
      "loop: 3\n",
      "_1\n",
      "threshold: 0.000850604591926651\n",
      "27227091.074726246\n",
      "_2\n",
      "threshold: 0.0002881651458912227\n",
      "24338432.642444815\n",
      "_4\n",
      "threshold: 0.0013665785479237793\n",
      "3959531.2927995166\n",
      "_5\n",
      "threshold: 0.0006210682381687919\n",
      "3338519.8190404447\n",
      "_6\n",
      "threshold: 0.003915509281703245\n",
      "231403.83299477046\n",
      "loop: 4\n",
      "_1\n",
      "threshold: 0.0008517116556549173\n",
      "7628839.914488014\n",
      "_2\n",
      "threshold: 0.0005875576740612227\n",
      "4052617.3485358483\n",
      "_3\n",
      "threshold: 0.0008651721609506393\n",
      "3734287.956259041\n",
      "_5\n",
      "threshold: 0.0007704715321482722\n",
      "1054276.3899691412\n",
      "_6\n",
      "threshold: 0.002922955443293955\n",
      "116002.0951035847\n",
      "loop: 5\n",
      "_1\n",
      "threshold: 0.0006432981113743707\n",
      "4828374.234279741\n",
      "_2\n",
      "threshold: 0.0005236180720342612\n",
      "1442778.2161910012\n",
      "_3\n",
      "threshold: 0.0005469432229342015\n",
      "2699996.3372404627\n",
      "_4\n",
      "threshold: 0.0013021724480217847\n",
      "890709.9927910876\n",
      "_6\n",
      "threshold: 0.004144082394225914\n",
      "103856.06474939027\n",
      "loop: 6\n",
      "_1\n",
      "threshold: 0.0027874961541765808\n",
      "17698.86622772839\n",
      "_2\n",
      "threshold: 0.00321970819839522\n",
      "5777.037718995581\n",
      "_3\n",
      "threshold: 0.003239694118465464\n",
      "42811.19271700994\n",
      "_4\n",
      "threshold: 0.0026803580056595604\n",
      "7732.67371176298\n",
      "_5\n",
      "threshold: 0.0029292460497898623\n",
      "21562.871977419156\n"
     ]
    }
   ],
   "source": [
    "\n",
    "for key0, value0 in file_settings.items():\n",
    "    file_name0 = value0['file_name']\n",
    "    nr0 = int(value0['nr'])\n",
    "\n",
    "    #Binance\n",
    "    nr1 = 0 \n",
    "    swaps_df0 = pl.scan_parquet(file_name0).collect(streaming=True)\n",
    "    price_diff = abs(swaps_df0['r_price_diff']).mean()\n",
    "    price_diff_matrix[0, nr0] = price_diff\n",
    "    price_diff_matrix[nr0, 0] = price_diff\n",
    "    MAV = swaps_df0['max_MAV_USD'].sum()\n",
    "    MAV_matrix[0, nr0] = MAV\n",
    "    MAV_matrix[nr0, 0] = MAV\n",
    "    del swaps_df0\n",
    "\n",
    "    print(\"loop: \" + value0['nr'])\n",
    "\n",
    "    #start calculations\n",
    "    for key1, value1 in file_settings.items():\n",
    "\n",
    "        suffix = \"_\" + value1['nr']\n",
    "        nr1 = int(value1['nr'])\n",
    "\n",
    "        if (nr0 != nr1) : #& (nr0==6)) :\n",
    "            swaps_df0 = pl.scan_parquet(file_name0).collect(streaming=True)\n",
    "\n",
    "            print(suffix)\n",
    "            file_name1 = value1['file_name']\n",
    "\n",
    "            swaps_df_full = pl.scan_parquet(file_name1).collect(streaming=True)\n",
    "            swaps_df_full = swaps_df0.join(swaps_df_full, on='block_timestamp', how=\"outer\", suffix=suffix)\n",
    "            #del swaps_df1\n",
    "\n",
    "            swaps_df_full = swaps_df_full.with_columns(\n",
    "                pl.when(pl.col(\"block_timestamp\").is_not_null())\n",
    "                .then(pl.col(\"block_timestamp\") )\n",
    "                .otherwise(pl.col(\"block_timestamp\"+suffix) )\n",
    "                .alias(\"block_timestamp_X\")\n",
    "            )\n",
    "            swaps_df_full = swaps_df_full.sort(\"block_timestamp_X\")\n",
    "\n",
    "            swaps_df_full = swaps_df_full.with_columns(pl.col(\"spot_price\"+suffix).fill_null(strategy=\"forward\"))\n",
    "            swaps_df_full = swaps_df_full.with_columns(pl.col(\"reserve_USD\"+suffix).fill_null(strategy=\"forward\"))\n",
    "            swaps_df_full = swaps_df_full.with_columns(pl.col(\"reserve_ETH\"+suffix).fill_null(strategy=\"forward\"))\n",
    "            swaps_df_full = swaps_df_full.with_columns(pl.col(\"reserve_total_USD\"+suffix).fill_null(strategy=\"forward\"))\n",
    "\n",
    "            swaps_df_full = swaps_df_full.select(\"block_timestamp\", \"spot_price\"+suffix, \"reserve_USD\"+suffix, \"reserve_ETH\"+suffix, \"reserve_total_USD\"+suffix)\n",
    "            swaps_df0 = swaps_df0.join(swaps_df_full, on = \"block_timestamp\", how=\"left\")\n",
    "            del swaps_df_full\n",
    "\n",
    "            swaps_df0 = swaps_df0.filter(pl.col('spot_price'+suffix).is_not_null())\n",
    "            swaps_df0 = process_swaps(swaps_df0, suffix)\n",
    "\n",
    "            #swaps_df0 = swaps_df0.with_columns(\n",
    "            #    ((pl.col(\"spot_price\"+suffix) - pl.col(\"spot_price\")).abs() / pl.col(\"spot_price\")).alias(\"r_price_diff\" + suffix)\n",
    "            #)\n",
    "\n",
    "            price_diff = swaps_df0[\"price_diff\"].mean()\n",
    "            price_diff_matrix[nr0, nr1] = price_diff\n",
    "            \n",
    "            MAV = swaps_df0['max_MAV_USD'].sum()\n",
    "            MAV_matrix[nr0, nr1] = MAV\n",
    "            print(MAV)\n",
    "\n",
    "            del swaps_df0\n",
    "\n"
   ]
  },
  {
   "cell_type": "code",
   "execution_count": 7,
   "metadata": {},
   "outputs": [
    {
     "name": "stdout",
     "output_type": "stream",
     "text": [
      "[[0.         0.00049962 0.00032142 0.00035561 0.00073072 0.00046957\n",
      "  0.00224491]\n",
      " [0.00049962 0.         0.00075826 0.00103097 0.00113841 0.00099021\n",
      "  0.00256281]\n",
      " [0.00032142 0.00048017 0.         0.00019789 0.0007065  0.00033742\n",
      "  0.0022539 ]\n",
      " [0.00035561 0.00073766 0.000234   0.         0.00117757 0.00054419\n",
      "  0.00287352]\n",
      " [0.00073072 0.00076902 0.0006232  0.00078282 0.         0.00071326\n",
      "  0.00212263]\n",
      " [0.00046957 0.00061412 0.00043966 0.00049025 0.00122994 0.\n",
      "  0.00298179]\n",
      " [0.00224491 0.00206772 0.00244529 0.00246939 0.00196945 0.00216052\n",
      "  0.        ]]\n"
     ]
    }
   ],
   "source": [
    "print(price_diff_matrix)"
   ]
  },
  {
   "cell_type": "code",
   "execution_count": 8,
   "metadata": {},
   "outputs": [
    {
     "name": "stdout",
     "output_type": "stream",
     "text": [
      "[[0.00000000e+00 5.24878305e+07 2.69939460e+06 2.70694782e+06\n",
      "  1.29429131e+06 6.90855916e+05 2.01103805e+04]\n",
      " [5.24878305e+07 0.00000000e+00 2.90781292e+07 3.62745017e+07\n",
      "  9.27881668e+06 6.88164085e+06 3.12415217e+05]\n",
      " [2.69939460e+06 1.87164775e+07 0.00000000e+00 2.55147853e+07\n",
      "  5.17873978e+06 1.58868055e+06 4.17102361e+04]\n",
      " [2.70694782e+06 2.72270911e+07 2.43384326e+07 0.00000000e+00\n",
      "  3.95953129e+06 3.33851982e+06 2.31403833e+05]\n",
      " [1.29429131e+06 7.62883991e+06 4.05261735e+06 3.73428796e+06\n",
      "  0.00000000e+00 1.05427639e+06 1.16002095e+05]\n",
      " [6.90855916e+05 4.82837423e+06 1.44277822e+06 2.69999634e+06\n",
      "  8.90709993e+05 0.00000000e+00 1.03856065e+05]\n",
      " [2.01103805e+04 1.76988662e+04 5.77703772e+03 4.28111927e+04\n",
      "  7.73267371e+03 2.15628720e+04 0.00000000e+00]]\n"
     ]
    }
   ],
   "source": [
    "print(MAV_matrix)"
   ]
  },
  {
   "cell_type": "code",
   "execution_count": 9,
   "metadata": {},
   "outputs": [
    {
     "data": {
      "image/png": "[encoded data removed]",
      "text/plain": [
       "<Figure size 640x480 with 2 Axes>"
      ]
     },
     "metadata": {},
     "output_type": "display_data"
    }
   ],
   "source": [
    "\n",
    "# Default heatmap\n",
    "p1 = sns.heatmap(price_diff_matrix, cmap=\"Blues\")\n",
    "p1.set_xticklabels(columns, rotation=90)\n",
    "p1.set_yticklabels(columns, rotation=0)\n",
    "\n",
    "p1.set_title(\"Relative Price Differences\")\n",
    "\n",
    "# Adjust layout\n",
    "plt.tight_layout()\n",
    "\n",
    "# Save the plot as a PDF file\n",
    "plt.savefig(\"heatmap_price.pdf\", format=\"pdf\")\n",
    "\n",
    "# Show the plot (optional, can be omitted if not needed)\n",
    "plt.show()"
   ]
  },
  {
   "cell_type": "code",
   "execution_count": 10,
   "metadata": {},
   "outputs": [
    {
     "data": {
      "image/png": "[encoded data removed]",
      "text/plain": [
       "<Figure size 640x480 with 2 Axes>"
      ]
     },
     "metadata": {},
     "output_type": "display_data"
    }
   ],
   "source": [
    "\n",
    "\n",
    "# Default heatmap\n",
    "p1 = sns.heatmap(MAV_matrix)\n",
    "p1.set_xticklabels(columns, rotation=90)\n",
    "p1.set_yticklabels(columns, rotation=0)\n",
    "\n",
    "p1.set_title(\"Maximal Arbitrage Value (MAV) $\")\n",
    "\n",
    "# Save the plot as a PDF file\n",
    "plt.savefig(\"heatmap_MAV.pdf\", format=\"pdf\")\n",
    "\n",
    "# Show the plot (optional, can be omitted if not needed)\n",
    "plt.show()"
   ]
  },
  {
   "cell_type": "code",
   "execution_count": 24,
   "metadata": {},
   "outputs": [
    {
     "name": "stderr",
     "output_type": "stream",
     "text": [
      "/var/folders/y_/27jchs_x56gfpv07wkchjxj40000gn/T/ipykernel_7324/4280741519.py:8: RuntimeWarning: divide by zero encountered in log10\n",
      "  log_MAV_matrix = np.log10(MAV_matrix)\n"
     ]
    },
    {
     "data": {
      "image/png": "[encoded data removed]",
      "text/plain": [
       "<Figure size 640x480 with 2 Axes>"
      ]
     },
     "metadata": {},
     "output_type": "display_data"
    }
   ],
   "source": [
    "import numpy as np\n",
    "import seaborn as sns\n",
    "import matplotlib.pyplot as plt\n",
    "\n",
    "# Assume MAV_matrix and columns are already defined\n",
    "\n",
    "# Apply logarithmic transformation\n",
    "log_MAV_matrix = np.log10(MAV_matrix)\n",
    "\n",
    "# Create the heatmap with log-transformed data\n",
    "p1 = sns.heatmap(log_MAV_matrix, cmap='viridis', vmin=4, vmax=8)\n",
    "p1.set_xticklabels(columns, rotation=90)\n",
    "p1.set_yticklabels(columns, rotation=0)\n",
    "\n",
    "p1.set_title(\"Maximal Arbitrage Value (MAV) $ (Log Scale)\")\n",
    "\n",
    "plt.tight_layout()\n",
    "# Save the plot as a PDF file\n",
    "plt.savefig(\"heatmap_MAV_log.pdf\", format=\"pdf\")\n",
    "\n",
    "# Show the plot (optional, can be omitted if not needed)\n",
    "plt.show()"
   ]
  },
  {
   "cell_type": "code",
   "execution_count": 12,
   "metadata": {},
   "outputs": [
    {
     "data": {
      "text/plain": [
       "array([[      -inf, 7.72005862, 6.43126638, 6.43247988, 6.11203204,\n",
       "        5.83938748, 4.30342029],\n",
       "       [7.72005862,       -inf, 7.46356646, 7.55960146, 6.96749259,\n",
       "        6.837692  , 5.49473218],\n",
       "       [6.43126638, 7.27222412,       -inf, 7.40679192, 6.71422409,\n",
       "        6.20103658, 4.62024265],\n",
       "       [6.43247988, 7.43500124, 7.38629261,       -inf, 6.59764378,\n",
       "        6.52355396, 5.36437055],\n",
       "       [6.11203204, 6.8824585 , 6.6077356 , 6.5722078 ,       -inf,\n",
       "        6.02295448, 5.06446583],\n",
       "       [5.83938748, 6.68380092, 6.15919958, 6.43136318, 5.94973632,\n",
       "              -inf, 5.01643186],\n",
       "       [4.30342029, 4.24794545, 3.7617052 , 4.63155733, 3.88832969,\n",
       "        4.3337066 ,       -inf]])"
      ]
     },
     "execution_count": 12,
     "metadata": {},
     "output_type": "execute_result"
    }
   ],
   "source": [
    "log_MAV_matrix"
   ]
  },
  {
   "cell_type": "code",
   "execution_count": 13,
   "metadata": {},
   "outputs": [
    {
     "name": "stdout",
     "output_type": "stream",
     "text": [
      "[[0.00000000e+00 5.24878305e+07 2.69939460e+06 2.70694782e+06\n",
      "  1.29429131e+06 6.90855916e+05 2.01103805e+04]\n",
      " [5.24878305e+07 0.00000000e+00 2.90781292e+07 3.62745017e+07\n",
      "  9.27881668e+06 6.88164085e+06 3.12415217e+05]\n",
      " [2.69939460e+06 1.87164775e+07 0.00000000e+00 2.55147853e+07\n",
      "  5.17873978e+06 1.58868055e+06 4.17102361e+04]\n",
      " [2.70694782e+06 2.72270911e+07 2.43384326e+07 0.00000000e+00\n",
      "  3.95953129e+06 3.33851982e+06 2.31403833e+05]\n",
      " [1.29429131e+06 7.62883991e+06 4.05261735e+06 3.73428796e+06\n",
      "  0.00000000e+00 1.05427639e+06 1.16002095e+05]\n",
      " [6.90855916e+05 4.82837423e+06 1.44277822e+06 2.69999634e+06\n",
      "  8.90709993e+05 0.00000000e+00 1.03856065e+05]\n",
      " [2.01103805e+04 1.76988662e+04 5.77703772e+03 4.28111927e+04\n",
      "  7.73267371e+03 2.15628720e+04 0.00000000e+00]]\n"
     ]
    }
   ],
   "source": [
    "print(MAV_matrix)"
   ]
  },
  {
   "cell_type": "code",
   "execution_count": 14,
   "metadata": {},
   "outputs": [
    {
     "ename": "SyntaxError",
     "evalue": "invalid syntax (1446708941.py, line 11)",
     "output_type": "error",
     "traceback": [
      "\u001b[0;36m  Cell \u001b[0;32mIn[14], line 11\u001b[0;36m\u001b[0m\n\u001b[0;31m    wfwe fwewefw\u001b[0m\n\u001b[0m         ^\u001b[0m\n\u001b[0;31mSyntaxError\u001b[0m\u001b[0;31m:\u001b[0m invalid syntax\n"
     ]
    }
   ],
   "source": [
    "chain0 = 'zksync'\n",
    "chain1 = 'arbitrum'\n",
    "\n",
    "file_name0 = file_settings[chain0]['file_name']\n",
    "file_name1 = file_settings[chain1]['file_name']\n",
    "\n",
    "nr0 = int(file_settings[chain0]['nr'])\n",
    "nr1 = int(file_settings[chain1]['nr'])\n",
    "suffix = \"_\" + file_settings[chain1]['nr']\n",
    "\n",
    "wfwe fwewefw"
   ]
  },
  {
   "cell_type": "code",
   "execution_count": null,
   "metadata": {},
   "outputs": [],
   "source": [
    "price_diff_matrix = np.zeros((7, 7))\n",
    "MAV_matrix = np.zeros((7, 7))\n",
    "\n",
    "\n",
    "swaps_df0 = pl.scan_parquet(file_name0).collect(streaming=True)\n",
    "\n",
    "price_diff = abs(swaps_df0['r_price_diff']).mean()\n",
    "price_diff_matrix[0, nr0] = price_diff\n",
    "price_diff_matrix[nr0, 0] = price_diff\n",
    "MAV = swaps_df0['max_MAV_USD'].sum()\n",
    "MAV_matrix[0, nr0] = MAV\n",
    "MAV_matrix[nr0, 0] = MAV\n",
    "print(\"loop: \" + value0['nr'])\n",
    "\n",
    "\n",
    "swaps_df_full = pl.scan_parquet(file_name1).collect(streaming=True)\n",
    "\n",
    "swaps_df_full = swaps_df0.join(swaps_df_full, on='block_timestamp', how=\"outer\", suffix=suffix)\n",
    "\n",
    "\n",
    "swaps_df_full = swaps_df_full.with_columns(\n",
    "    pl.when(pl.col(\"block_timestamp\").is_not_null())\n",
    "    .then(pl.col(\"block_timestamp\") )\n",
    "    .otherwise(pl.col(\"block_timestamp\"+suffix) )\n",
    "    .alias(\"block_timestamp_X\")\n",
    ")\n",
    "swaps_df_full = swaps_df_full.sort(\"block_timestamp_X\")\n",
    "\n",
    "swaps_df_full = swaps_df_full.with_columns(pl.col(\"spot_price\"+suffix).fill_null(strategy=\"forward\"))\n",
    "swaps_df_full = swaps_df_full.with_columns(pl.col(\"reserve_USD\"+suffix).fill_null(strategy=\"forward\"))\n",
    "swaps_df_full = swaps_df_full.with_columns(pl.col(\"reserve_ETH\"+suffix).fill_null(strategy=\"forward\"))\n",
    "swaps_df_full = swaps_df_full.with_columns(pl.col(\"reserve_total_USD\"+suffix).fill_null(strategy=\"forward\"))\n",
    "\n",
    "swaps_df_full = swaps_df_full.select(\"block_timestamp\", \"spot_price\"+suffix, \"reserve_USD\"+suffix, \"reserve_ETH\"+suffix, \"reserve_total_USD\"+suffix)\n",
    "swaps_df0 = swaps_df0.join(swaps_df_full, on = \"block_timestamp\", how=\"left\")\n",
    "del swaps_df_full\n",
    "\n",
    "print(swaps_df0.shape[0])\n",
    "swaps_df0 = swaps_df0.filter(pl.col('spot_price'+suffix).is_not_null())\n",
    "print(swaps_df0.shape[0])\n",
    "swaps_df0 = process_swaps(swaps_df0, suffix)\n",
    "print(swaps_df0.shape[0])\n",
    "#swaps_df0 = swaps_df0.with_columns(\n",
    "#    ((pl.col(\"spot_price\"+suffix) - pl.col(\"spot_price\")).abs() / pl.col(\"spot_price\")).alias(\"r_price_diff\" + suffix)\n",
    "#)\n",
    "\n",
    "#price_diff = swaps_df0[\"r_price_diff\" + suffix].mean()\n",
    "#price_diff_matrix[nr1, nr0] = price_diff\n",
    "\n",
    "swaps_df0 = swaps_df0.with_columns(\n",
    "    ((pl.col(\"spot_price\") - pl.col(\"spot_price\"+suffix)).abs() / pl.col(\"spot_price\"+suffix)).alias(\"price_diff\")\n",
    ")\n",
    "\n",
    "price_diff = swaps_df0[\"price_diff\"].mean()\n",
    "\n",
    "price_diff_matrix[nr0, nr1] = price_diff\n",
    "\n",
    "MAV = swaps_df0['max_MAV_USD'].sum()\n",
    "MAV_matrix[nr0, nr1] = MAV\n",
    "print(MAV)\n",
    "\n",
    "#del swaps_df0\n"
   ]
  },
  {
   "cell_type": "code",
   "execution_count": null,
   "metadata": {},
   "outputs": [],
   "source": [
    "import numpy as np\n",
    "import seaborn as sns\n",
    "import matplotlib.pyplot as plt\n",
    "\n",
    "# Assume MAV_matrix and columns are already defined\n",
    "\n",
    "# Apply logarithmic transformation\n",
    "log_MAV_matrix = np.log10(MAV_matrix)\n",
    "\n",
    "# Create the heatmap with log-transformed data\n",
    "p1 = sns.heatmap(log_MAV_matrix, cmap='viridis')\n",
    "p1.set_xticklabels(columns, rotation=90)\n",
    "p1.set_yticklabels(columns, rotation=0)\n",
    "\n",
    "p1.set_title(\"Maximal Arbitrage Value (MAV) $ (Log Scale)\")\n",
    "\n",
    "# Save the plot as a PDF file\n",
    "plt.savefig(\"heatmap_MAV_log.pdf\", format=\"pdf\")\n",
    "\n",
    "# Show the plot (optional, can be omitted if not needed)\n",
    "plt.show()"
   ]
  },
  {
   "cell_type": "code",
   "execution_count": null,
   "metadata": {},
   "outputs": [],
   "source": [
    "print(MAV_matrix)"
   ]
  },
  {
   "cell_type": "code",
   "execution_count": null,
   "metadata": {},
   "outputs": [],
   "source": [
    "swaps_df0"
   ]
  },
  {
   "cell_type": "code",
   "execution_count": null,
   "metadata": {},
   "outputs": [],
   "source": [
    "\n",
    "swaps_df00 = pl.scan_parquet(file_name0).collect(streaming=True)\n"
   ]
  },
  {
   "cell_type": "code",
   "execution_count": null,
   "metadata": {},
   "outputs": [],
   "source": [
    "swaps_df1 = pl.scan_parquet(file_name1).collect(streaming=True)\n",
    "min = swaps_df1['block_timestamp'].min()\n",
    "max = swaps_df1['block_timestamp'].max()"
   ]
  },
  {
   "cell_type": "code",
   "execution_count": null,
   "metadata": {},
   "outputs": [],
   "source": [
    "print(min)\n",
    "print(max)"
   ]
  }
 ],
 "metadata": {
  "kernelspec": {
   "display_name": "Python 3",
   "language": "python",
   "name": "python3"
  },
  "language_info": {
   "codemirror_mode": {
    "name": "ipython",
    "version": 3
   },
   "file_extension": ".py",
   "mimetype": "text/x-python",
   "name": "python",
   "nbconvert_exporter": "python",
   "pygments_lexer": "ipython3",
   "version": "3.9.6"
  },
  "orig_nbformat": 4
 },
 "nbformat": 4,
 "nbformat_minor": 2
}
