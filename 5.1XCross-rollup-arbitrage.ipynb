{
 "cells": [
  {
   "cell_type": "code",
   "execution_count": 1,
   "metadata": {},
   "outputs": [],
   "source": [
    "import os\n",
    "from tqdm.notebook import tqdm\n",
    "import polars as pl\n",
    "import numpy as np\n",
    "import matplotlib.pyplot as plt\n",
    "import matplotlib.gridspec as gridspec\n",
    "import matplotlib.pyplot as plt\n",
    "import seaborn as sns\n"
   ]
  },
  {
   "cell_type": "code",
   "execution_count": 2,
   "metadata": {},
   "outputs": [],
   "source": [
    "# Existing dataset dir\n",
    "data_dir = './data/'\n",
    "\n",
    "# Existing plots dir\n",
    "plots_dir = data_dir+'/plots/'\n",
    "os.makedirs(data_dir, exist_ok=True)\n",
    "os.makedirs(plots_dir, exist_ok=True)\n"
   ]
  },
  {
   "cell_type": "code",
   "execution_count": 3,
   "metadata": {},
   "outputs": [],
   "source": [
    "file_settings = {\n",
    "    'ethereum': {  'nr': '1', 'file_name': './data/mav-ethereum-Uniswap-v3-WETH-USDC.paraquet' , 'output_file': './data/mav2-ethereum-Uniswap-v3-WETH-USDC.paraquet' },\n",
    "    'arbitrum': {  'nr': '2', 'file_name': './data/mav-arbitrum-Uniswap-v3-WETH-USDC.paraquet' , 'output_file': './data/mav2-arbitrum-Uniswap-v3-WETH-USDC.paraquet'},\n",
    "    'arbitrum2': { 'nr': '3', 'file_name': './data/mav-arbitrum-Uniswap-v3-WETH-USDCe.paraquet', 'output_file': './data/mav2-arbitrum-Uniswap-v3-WETH-USDCe.paraquet'},\n",
    "    'base': {      'nr': '4', 'file_name': './data/mav-base-Uniswap-v3-WETH-USDC.paraquet'     , 'output_file': './data/mav2-base-Uniswap-v3-WETH-USDC.paraquet'},\n",
    "    'optimism': {  'nr': '5', 'file_name': './data/mav-optimism-Uniswap-v3-WETH-USDC.paraquet' , 'output_file': './data/mav2-optimism-Uniswap-v3-WETH-USDC.paraquet'},\n",
    "    'zksync': {    'nr': '6', 'file_name': './data/mav-zksync-Uniswap-v3-WETH-USDC.paraquet'   , 'output_file': './data/mav2-zksync-Uniswap-v3-WETH-USDC.paraquet' } ,\n",
    "}\n",
    "\n",
    "#columns = [\"Binance\",\"Ethereum\",\"Arbitrum\",\"Arbitrum(e)\",\"Base\", \"Optimism(e)\", \"zkSync(e)\"]\n",
    "#price_diff_matrix = np.zeros((7, 7))\n",
    "#MAV_matrix = np.zeros((7, 7))"
   ]
  },
  {
   "cell_type": "code",
   "execution_count": 4,
   "metadata": {},
   "outputs": [
    {
     "name": "stdout",
     "output_type": "stream",
     "text": [
      "loop: 1\n",
      "_2\n",
      "_3\n"
     ]
    }
   ],
   "source": [
    "\n",
    "for key0, value0 in file_settings.items():\n",
    "    file_name0 = value0['file_name']\n",
    "    output_file0 = value0['output_file']\n",
    "    suffix0 = \"_\" + value0['nr']\n",
    "    print(\"loop: \" + value0['nr'])\n",
    "\n",
    "    #cleaning\n",
    "    swaps_df0 = pl.scan_parquet(file_name0).collect(streaming=True)\n",
    "    swaps_df0.write_parquet(output_file0)\n",
    "    del swaps_df0\n",
    "\n",
    "    #start calculations\n",
    "    for key1, value1 in file_settings.items():\n",
    "\n",
    "        swaps_df0 = pl.scan_parquet(output_file0).collect(streaming=True)\n",
    "\n",
    "        suffix = \"_\" + value1['nr']\n",
    "        if (suffix0 != suffix) :\n",
    "            print(suffix)\n",
    "            file_name1 = value1['file_name']\n",
    "\n",
    "            #swaps_df1 = pl.scan_parquet(file_name1).collect(streaming=True)\n",
    "            swaps_df_full = pl.scan_parquet(file_name1).collect(streaming=True)\n",
    "            swaps_df_full = swaps_df0.join(swaps_df_full, on='block_timestamp', how=\"outer\", suffix=suffix)\n",
    "            #del swaps_df1\n",
    "\n",
    "            swaps_df_full = swaps_df_full.with_columns(\n",
    "                pl.when(pl.col(\"block_timestamp\").is_not_null())\n",
    "                .then(pl.col(\"block_timestamp\") )\n",
    "                .otherwise(pl.col(\"block_timestamp\"+suffix) )\n",
    "                .alias(\"block_timestamp_X\")\n",
    "            )\n",
    "            swaps_df_full = swaps_df_full.sort(\"block_timestamp_X\")\n",
    "\n",
    "            swaps_df_full = swaps_df_full.with_columns(pl.col(\"spot_price\"+suffix).fill_null(strategy=\"forward\"))\n",
    "            swaps_df_full = swaps_df_full.with_columns(pl.col(\"reserve_USD\"+suffix).fill_null(strategy=\"forward\"))\n",
    "            swaps_df_full = swaps_df_full.with_columns(pl.col(\"reserve_ETH\"+suffix).fill_null(strategy=\"forward\"))\n",
    "            swaps_df_full = swaps_df_full.with_columns(pl.col(\"reserve_total_USD\"+suffix).fill_null(strategy=\"forward\"))\n",
    "\n",
    "            swaps_df_full = swaps_df_full.select(\"block_timestamp\", \"spot_price\"+suffix, \"reserve_USD\"+suffix, \"reserve_ETH\"+suffix, \"reserve_total_USD\"+suffix)\n",
    "            swaps_df0 = swaps_df0.join(swaps_df_full, on = \"block_timestamp\", how=\"left\")\n",
    "\n",
    "            del swaps_df_full\n",
    "        swaps_df0.write_parquet(output_file0)\n",
    "        del swaps_df0\n",
    "        \n"
   ]
  },
  {
   "cell_type": "code",
   "execution_count": null,
   "metadata": {},
   "outputs": [
    {
     "ename": "SyntaxError",
     "evalue": "invalid syntax (3795058954.py, line 1)",
     "output_type": "error",
     "traceback": [
      "\u001b[0;36m  Cell \u001b[0;32mIn[5], line 1\u001b[0;36m\u001b[0m\n\u001b[0;31m    swaps_df0.columns fhffh gg\u001b[0m\n\u001b[0m                      ^\u001b[0m\n\u001b[0;31mSyntaxError\u001b[0m\u001b[0;31m:\u001b[0m invalid syntax\n"
     ]
    }
   ],
   "source": [
    "swaps_df0.columns fhffh gg"
   ]
  },
  {
   "cell_type": "code",
   "execution_count": null,
   "metadata": {},
   "outputs": [],
   "source": [
    "\n",
    "swaps_df_full = swaps_df_full.with_columns(\n",
    "    pl.when(pl.col(\"block_timestamp\").is_not_null())\n",
    "    .then(pl.col(\"block_timestamp\") )\n",
    "    .otherwise(pl.col(\"block_timestamp_6\") )\n",
    "    .alias(\"block_timestamp_X\")\n",
    ")\n",
    "\n",
    "swaps_df_full"
   ]
  },
  {
   "cell_type": "code",
   "execution_count": null,
   "metadata": {},
   "outputs": [],
   "source": [
    "swaps_df_full = swaps_df_full.sort(\"block_timestamp_X\")\n",
    "swaps_df_full\n"
   ]
  },
  {
   "cell_type": "code",
   "execution_count": null,
   "metadata": {},
   "outputs": [],
   "source": []
  },
  {
   "cell_type": "code",
   "execution_count": null,
   "metadata": {},
   "outputs": [],
   "source": [
    "my_swaps = swaps_df_full.filter(pl.col('block_timestamp_6').is_not_null())"
   ]
  },
  {
   "cell_type": "code",
   "execution_count": null,
   "metadata": {},
   "outputs": [],
   "source": [
    "my_swaps"
   ]
  },
  {
   "cell_type": "code",
   "execution_count": null,
   "metadata": {},
   "outputs": [],
   "source": [
    "swaps_df_full = swaps_df_full.with_columns(pl.col(\"spot_price_6\").fill_null(strategy=\"forward\"))\n",
    "\n",
    "swaps_df_full = swaps_df_full.with_columns(pl.col(\"reserve_USD_6\").fill_null(strategy=\"forward\"))\n",
    "swaps_df_full = swaps_df_full.with_columns(pl.col(\"reserve_ETH_6\").fill_null(strategy=\"forward\"))\n",
    "swaps_df_full = swaps_df_full.with_columns(pl.col(\"reserve_total_USD_6\").fill_null(strategy=\"forward\"))\n",
    "\n"
   ]
  },
  {
   "cell_type": "code",
   "execution_count": null,
   "metadata": {},
   "outputs": [],
   "source": [
    "swaps_df_full = swaps_df_full.select(\"block_timestamp\", \"spot_price_6\", \"reserve_USD_6\", \"reserve_ETH_6\", \"reserve_total_USD_6\")\n",
    "swaps_df_full"
   ]
  },
  {
   "cell_type": "code",
   "execution_count": null,
   "metadata": {},
   "outputs": [],
   "source": [
    "swaps_df01 = swaps_df0.join(swaps_df_full, on = \"block_timestamp\", how=\"left\")\n",
    "\n",
    "swaps_df01"
   ]
  }
 ],
 "metadata": {
  "kernelspec": {
   "display_name": "Python 3",
   "language": "python",
   "name": "python3"
  },
  "language_info": {
   "codemirror_mode": {
    "name": "ipython",
    "version": 3
   },
   "file_extension": ".py",
   "mimetype": "text/x-python",
   "name": "python",
   "nbconvert_exporter": "python",
   "pygments_lexer": "ipython3",
   "version": "3.9.6"
  },
  "orig_nbformat": 4
 },
 "nbformat": 4,
 "nbformat_minor": 2
}
