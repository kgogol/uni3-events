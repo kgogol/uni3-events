{
 "cells": [
  {
   "cell_type": "code",
   "execution_count": 1,
   "metadata": {},
   "outputs": [],
   "source": [
    "import os\n",
    "from tqdm.notebook import tqdm\n",
    "import polars as pl\n",
    "import json\n",
    "import numpy as np\n",
    "import matplotlib.pyplot as plt\n",
    "import matplotlib.gridspec as gridspec"
   ]
  },
  {
   "cell_type": "code",
   "execution_count": 28,
   "metadata": {},
   "outputs": [],
   "source": [
    "# Existing dataset dir\n",
    "data_dir = './data/'\n",
    "\n",
    "# Existing plots dir\n",
    "plots_dir = data_dir+'/plots/'\n",
    "os.makedirs(data_dir, exist_ok=True)\n",
    "os.makedirs(plots_dir, exist_ok=True)\n",
    "\n",
    "LP_FEES = 0.0006 #5bps for  Uniswap and 1bps for Binance 6.0, 5.9 (6)\n"
   ]
  },
  {
   "cell_type": "code",
   "execution_count": 14,
   "metadata": {},
   "outputs": [],
   "source": [
    "#def calculateV_MAX(reserves_ETH, price_AMM, price_CEX, f, g):\n",
    "#    return abs((reserves_ETH * (price_AMM - price_CEX) / (2 * price_AMM)))\n",
    "\n",
    "#def calculateMAV(reserves_ETH, price_AMM, price_CEX, f, g):\n",
    "#    return (reserves_ETH * (price_AMM - price_CEX) ** 2 / (4 * price_AMM))\n",
    "\n",
    "\n",
    "def calculateV_MAX(reserves_ETH, price_AMM, price_CEX, f=0.0005, g=0.0001):\n",
    "    return pl.when(price_CEX > price_AMM).then(\n",
    "        pl.when(((1 - g) * (1 - f) * price_CEX > price_AMM))\n",
    "        .then(reserves_ETH * (1 - (price_AMM.pow(0.5) / ((1 - f) * (1 - g) * price_CEX).pow(0.5))))\n",
    "        .otherwise(0)\n",
    "    ).otherwise(\n",
    "        pl.when((1 - g) * (1 - f) * price_AMM > price_CEX)\n",
    "        .then(reserves_ETH / (1 - g) * (((1 - f) * (1 - g) * price_AMM).pow(0.5) / price_CEX.pow(0.5) - 1))\n",
    "        .otherwise(0)\n",
    "    )\n",
    "\n",
    "def calculateMAV(reserves_ETH, price_AMM, price_CEX, f=0.0005, g=0.0001):\n",
    "    return pl.when(price_CEX > price_AMM).then(\n",
    "        pl.when(((1 - g) * (1 - f) * price_CEX > price_AMM))\n",
    "        .then(reserves_ETH * (1 - f) * (((1 - g) * price_CEX).pow(0.5) - (price_AMM / (1 - f)).pow(0.5)) ** 2)\n",
    "        .otherwise(0)\n",
    "    ).otherwise(\n",
    "        pl.when((1 - g) * (1 - f) * price_AMM > price_CEX)\n",
    "        .then(reserves_ETH * (((1 - g) * price_CEX).pow(0.5) - (price_AMM / (1 - f)).pow(0.5)) ** 2)\n",
    "        .otherwise(0)\n",
    "    )\n",
    "\n"
   ]
  },
  {
   "cell_type": "code",
   "execution_count": 17,
   "metadata": {},
   "outputs": [],
   "source": [
    "def process_swaps(swaps_df, fee):\n",
    "\n",
    "    swaps_df = swaps_df.with_columns(\n",
    "        price_diff = ((pl.col('spot_price') - pl.col('CEX_price')).abs()) / pl.col('CEX_price'),\n",
    "        r_price_diff = (pl.col('spot_price') - pl.col('CEX_price')) / pl.col('CEX_price'),\n",
    "        volume_total_USD = pl.col('amount_USD'),\n",
    "        balance_total_USD = pl.col('amount_USD'),\n",
    "        LP_Fee_USD = pl.col('amount_USD') * fee / 10000,\n",
    "        LP_Fee_total_USD = (pl.col('amount_USD') * fee / 10000),\n",
    "        LP_fee_p = (fee / 10000)\n",
    "    )\n",
    "\n",
    "    swaps_df = swaps_df.sort(by=['block_number', 'transaction_index'])\n",
    "\n",
    "    swaps_df = swaps_df.with_columns(pl.col(\"balance_total_USD\").cum_sum().over(\"block_number\").alias(\"block_slippage_USD\"))\n",
    "    swaps_df = swaps_df.with_columns((pl.col(\"block_slippage_USD\") - pl.col(\"balance_total_USD\")).alias(\"block_slippage_USD\"))\n",
    "\n",
    "    #calulating MAV_0, V_max_0, reserve_total_0, LP_fee_0\n",
    "    swaps_df = swaps_df.with_columns(\n",
    "        MAV_USD = calculateMAV(pl.col('reserve_ETH'), pl.col('spot_price'), pl.col('CEX_price')),\n",
    "        V_max_ETH = calculateV_MAX(pl.col('reserve_ETH'), pl.col('spot_price'), pl.col('CEX_price')),\n",
    "        reserve_total_USD = 2 * pl.col('reserve_ETH')\n",
    "    )\n",
    "\n",
    "    swaps_df = swaps_df.with_columns(\n",
    "        V_max_USD = pl.col('V_max_ETH') * pl.col('spot_price'),\n",
    "    )\n",
    "\n",
    "\n",
    "    #calculate threshold for max MAV as  Q3 + 1.5 IQR\n",
    "\n",
    "    data = swaps_df['price_diff']\n",
    "    # Calculate Q1 (25th percentile)\n",
    "    Q1 = np.percentile(data, 25)\n",
    "    # Calculate Q3 (75th percentile)\n",
    "    Q3 = np.percentile(data, 75)\n",
    "    # Calculate the interquartile range (IQR)\n",
    "    IQR = Q3 - Q1\n",
    "    threshold = Q3 #+ 1.5 * IQR\n",
    "    print(\"threshold:\", threshold)\n",
    "    del(data)\n",
    "\n",
    "    if (threshold < LP_FEES) : \n",
    "        threshold = LP_FEES\n",
    "    print(\"threshold:\", threshold)\n",
    "\n",
    "    \n",
    "\n",
    "    swaps_df = swaps_df.with_columns(\n",
    "        MAV_threshold = pl.when(pl.col('price_diff') >  threshold).then(0).otherwise(1)\n",
    "    )\n",
    "    swaps_df = swaps_df.with_columns(\n",
    "        MAV_cum_sum = pl.col('MAV_threshold').cum_sum()\n",
    "    )\n",
    "    swaps_df = swaps_df.with_columns(\n",
    "        MAV_groups = pl.when(pl.col('MAV_threshold') >  0).then(0).otherwise(pl.col('MAV_cum_sum'))\n",
    "    )\n",
    "\n",
    "    # Perform the aggregation\n",
    "    max_MAV_df = swaps_df.group_by('MAV_groups').agg(pl.max(\"MAV_USD\").alias(\"max_MAV_USD\"))\n",
    "\n",
    "    # Join with the original DataFrame to get the corresponding block_timestamp\n",
    "    max_MAV_df = max_MAV_df.join(\n",
    "        swaps_df, on=\"MAV_groups\", how=\"inner\"\n",
    "    ).select([\n",
    "        \"MAV_groups\",\n",
    "        \"max_MAV_USD\",\n",
    "        \"MAV_USD\",\n",
    "        \"transaction_hash\",\n",
    "        \"block_timestamp\"\n",
    "    ]).filter(pl.col(\"MAV_USD\") == pl.col(\"max_MAV_USD\")).filter(pl.col(\"MAV_groups\") != 0)\n",
    "\n",
    "    swaps_df = swaps_df.join(max_MAV_df, on=\"MAV_groups\", how=\"left\")\n",
    "\n",
    "    swaps_df = swaps_df.with_columns(\n",
    "        decay = pl.when(pl.col('block_timestamp') > pl.col('block_timestamp_right'))\n",
    "                .then(pl.col('block_timestamp') - pl.col('block_timestamp_right'))\n",
    "                .otherwise(pl.lit(0)),\n",
    "        max_MAV_USD = pl.when(pl.col('transaction_hash') == pl.col('transaction_hash_right'))\n",
    "                .then(pl.col('MAV_USD'))\n",
    "                .otherwise(pl.lit(0))\n",
    "    )\n",
    "    return swaps_df\n",
    "\n",
    "#getting the stats for Overleaf table\n",
    "def get_arbitrage_stats(file_name, output_file, fee) :\n",
    "    # Load the parquet file\n",
    "    swaps_df = pl.scan_parquet(file_name).collect(streaming=True)\n",
    "    swaps_df = process_swaps(swaps_df, fee)\n",
    "    swaps_df.write_parquet(output_file)\n",
    "\n",
    "    #swaps = swaps_df.shape[0]\n",
    "    #swaps_df = swaps_df.with_columns(pl.col(\"max_MAV_USD\").fill_null(0))\n",
    "    total_MAX_MAV_USD = swaps_df['max_MAV_USD'].sum()\n",
    "    total_MAV_USD = swaps_df['MAV_USD'].sum()\n",
    "    total_volume_USD = abs(swaps_df['amount_USD']).sum()\n",
    "    percent = total_MAX_MAV_USD / total_volume_USD\n",
    "    percent_MAV = total_MAV_USD / total_volume_USD\n",
    "    avg_decay = swaps_df['decay'].mean() / 1_000_000\n",
    "\n",
    "    # Create formatted string\n",
    "    my_row = f\"\\\\num{{{total_MAX_MAV_USD:.2f}}} & \\\\num{{{total_volume_USD:.2f}}} & \\\\num{{{percent:.4f}}} & \\\\num{{{total_MAV_USD:.2f}}}& \\\\num{{{percent_MAV:.4f}}} & {avg_decay:.2}s\"\n",
    "\n",
    "    #For the second table\n",
    "    MAV_df = swaps_df.filter(pl.col('max_MAV_USD') > 0)\n",
    "    unique_MAV = MAV_df.shape[0]\n",
    "    avg_MAV = MAV_df['max_MAV_USD'].median()\n",
    "    avg_v_max = MAV_df['V_max_USD'].median()\n",
    "    decay_df = swaps_df.filter(pl.col('decay') > 0)\n",
    "    avg_decay = decay_df['decay'].mean() / 1_000_000\n",
    "\n",
    "    my_row = f\"\\\\num{{{unique_MAV}}} & \\\\num{{{avg_MAV:.2f}}} & \\\\num{{{avg_v_max:.4f}}} & {avg_decay:.2}s\"\n",
    "    return my_row\n",
    "\n",
    "\n",
    "def get_arbitrate_by_day(file_name, fee) :\n",
    "\n",
    "    swaps_df = pl.scan_parquet(file_name).collect(streaming=True)\n",
    "    swaps_df = process_swaps(swaps_df, fee)\n",
    "    # Define aggregation dictionary\n",
    "    agg_expressions = {\n",
    "        'volume_total_USD': pl.sum('volume_total_USD'),\n",
    "        'price_diff': pl.max('price_diff'),\n",
    "        'reserve_total_USD': pl.last('reserve_total_USD'),\n",
    "        'spot_price': pl.last('spot_price'),\n",
    "        'CEX_price': pl.last('CEX_price'),\n",
    "        'MAV_USD': pl.sum('MAV_USD'),\n",
    "        'max_MAV_USD': pl.sum('max_MAV_USD'),\n",
    "        'LP_Fee_USD': pl.sum('LP_Fee_USD'),\n",
    "        'decay': pl.max('decay'),\n",
    "        #'fees_0': pl.sum('fees_0'),\n",
    "        'LP_Fee_total_USD': pl.sum('LP_Fee_total_USD'),\n",
    "        'block_slippage_total_USD': pl.sum('block_slippage_USD')\n",
    "    }\n",
    "\n",
    "    # Aggregate data to daily frequency\n",
    "    swaps_df = swaps_df.sort('block_timestamp')\n",
    "    df_per_day = swaps_df.group_by_dynamic('block_timestamp', every='1d').agg(**agg_expressions).drop_nulls(subset=['price_diff'])\n",
    "\n",
    "    return df_per_day\n"
   ]
  },
  {
   "cell_type": "code",
   "execution_count": 18,
   "metadata": {},
   "outputs": [
    {
     "name": "stdout",
     "output_type": "stream",
     "text": [
      "threshold: 0.0004272743592323691\n",
      "threshold: 0.0006\n",
      "\\num{2478265.16} & \\num{7266381599.01} & \\num{0.0003} & \\num{11747026.56}& \\num{0.0016}\n"
     ]
    }
   ],
   "source": [
    "file_name = \"./data/swaps-arbitrum-Uniswap-v3-WETH-USDC.paraquet\"\n",
    "fee = 0.0005\n",
    "contract_name = 'arbitrum-e'\n",
    "\n",
    "# Load the parquet file\n",
    "swaps_df = pl.scan_parquet(file_name).collect(streaming=True)\n",
    "swaps_df = process_swaps(swaps_df, fee)\n",
    "swaps = swaps_df.shape[0]\n",
    "#swaps_df = swaps_df.with_columns(pl.col(\"max_MAV_USD\").fill_null(0))\n",
    "total_MAX_MAV_USD = swaps_df['max_MAV_USD'].sum()\n",
    "total_MAV_USD = swaps_df['MAV_USD'].sum()\n",
    "total_volume_USD = abs(swaps_df['amount_USD']).sum()\n",
    "percent = total_MAX_MAV_USD / total_volume_USD\n",
    "percent_MAV = total_MAV_USD / total_volume_USD\n",
    "\n",
    "\n",
    "# Create formatted string\n",
    "#my_row = f\"\\\\num{{{total_MAX_MAV_USD:.2f}}} & \\\\num{{{total_volume_USD:.2f}}} & \\\\num{{{percent:.4f}}} & \\\\num{{{total_MAV_USD:.2f}}}& \\\\num{{{percent_MAV:.4f}}}\"\n",
    "my_row = f\"\\\\num{{{total_MAX_MAV_USD:.2f}}} & \\\\num{{{total_volume_USD:.2f}}} & \\\\num{{{percent:.4f}}} & \\\\num{{{total_MAV_USD:.2f}}}& \\\\num{{{percent_MAV:.4f}}}\"\n",
    "\n",
    "print(my_row)"
   ]
  },
  {
   "cell_type": "code",
   "execution_count": 19,
   "metadata": {},
   "outputs": [
    {
     "name": "stdout",
     "output_type": "stream",
     "text": [
      "shape: (47_820, 45)\n",
      "┌────────────┬────────────┬───────────┬────────────┬───┬───────────┬───────────┬───────────┬───────┐\n",
      "│ transactio ┆ transactio ┆ log_index ┆ block_numb ┆ … ┆ MAV_USD_r ┆ transacti ┆ block_tim ┆ decay │\n",
      "│ n_hash     ┆ n_index    ┆ ---       ┆ er         ┆   ┆ ight      ┆ on_hash_r ┆ estamp_ri ┆ ---   │\n",
      "│ ---        ┆ ---        ┆ i64       ┆ ---        ┆   ┆ ---       ┆ ight      ┆ ght       ┆ i64   │\n",
      "│ str        ┆ i64        ┆           ┆ i64        ┆   ┆ f64       ┆ ---       ┆ ---       ┆       │\n",
      "│            ┆            ┆           ┆            ┆   ┆           ┆ str       ┆ datetime[ ┆       │\n",
      "│            ┆            ┆           ┆            ┆   ┆           ┆           ┆ μs]       ┆       │\n",
      "╞════════════╪════════════╪═══════════╪════════════╪═══╪═══════════╪═══════════╪═══════════╪═══════╡\n",
      "│ 0x807804e9 ┆ 1          ┆ 2         ┆ 187373687  ┆ … ┆ 2.378239  ┆ 0x807804e ┆ 2024-03-0 ┆ 0     │\n",
      "│ 04531a259e ┆            ┆           ┆            ┆   ┆           ┆ 904531a25 ┆ 5         ┆       │\n",
      "│ 978a75099c ┆            ┆           ┆            ┆   ┆           ┆ 9e978a750 ┆ 15:08:18  ┆       │\n",
      "│ 15…        ┆            ┆           ┆            ┆   ┆           ┆ 99c15…    ┆           ┆       │\n",
      "│ 0xa9364319 ┆ 4          ┆ 14        ┆ 187373716  ┆ … ┆ 0.004817  ┆ 0xa936431 ┆ 2024-03-0 ┆ 0     │\n",
      "│ e0efb5c833 ┆            ┆           ┆            ┆   ┆           ┆ 9e0efb5c8 ┆ 5         ┆       │\n",
      "│ d90e813f5b ┆            ┆           ┆            ┆   ┆           ┆ 33d90e813 ┆ 15:08:25  ┆       │\n",
      "│ bc…        ┆            ┆           ┆            ┆   ┆           ┆ f5bbc…    ┆           ┆       │\n",
      "│ 0x8b612f58 ┆ 13         ┆ 54        ┆ 187373749  ┆ … ┆ 3.040627  ┆ 0x8b612f5 ┆ 2024-03-0 ┆ 0     │\n",
      "│ c2b3c5ba72 ┆            ┆           ┆            ┆   ┆           ┆ 8c2b3c5ba ┆ 5         ┆       │\n",
      "│ 3b98ff622d ┆            ┆           ┆            ┆   ┆           ┆ 723b98ff6 ┆ 15:08:34  ┆       │\n",
      "│ 71…        ┆            ┆           ┆            ┆   ┆           ┆ 22d71…    ┆           ┆       │\n",
      "│ 0xbda121f6 ┆ 4          ┆ 12        ┆ 187373757  ┆ … ┆ 1.966641  ┆ 0xbda121f ┆ 2024-03-0 ┆ 0     │\n",
      "│ 02f8ba5bb0 ┆            ┆           ┆            ┆   ┆           ┆ 602f8ba5b ┆ 5         ┆       │\n",
      "│ cb680cf79a ┆            ┆           ┆            ┆   ┆           ┆ b0cb680cf ┆ 15:08:36  ┆       │\n",
      "│ fb…        ┆            ┆           ┆            ┆   ┆           ┆ 79afb…    ┆           ┆       │\n",
      "│ 0x7ef81931 ┆ 3          ┆ 8         ┆ 187373781  ┆ … ┆ 0.399962  ┆ 0x7ef8193 ┆ 2024-03-0 ┆ 0     │\n",
      "│ 397b2c8cc4 ┆            ┆           ┆            ┆   ┆           ┆ 1397b2c8c ┆ 5         ┆       │\n",
      "│ 063bf072ec ┆            ┆           ┆            ┆   ┆           ┆ c4063bf07 ┆ 15:08:42  ┆       │\n",
      "│ f5…        ┆            ┆           ┆            ┆   ┆           ┆ 2ecf5…    ┆           ┆       │\n",
      "│ …          ┆ …          ┆ …         ┆ …          ┆ … ┆ …         ┆ …         ┆ …         ┆ …     │\n",
      "│ 0xd21daf8a ┆ 4          ┆ 15        ┆ 206537236  ┆ … ┆ 0.002488  ┆ 0xd21daf8 ┆ 2024-04-3 ┆ 0     │\n",
      "│ 54f58d04d3 ┆            ┆           ┆            ┆   ┆           ┆ a54f58d04 ┆ 0         ┆       │\n",
      "│ fbeffe218a ┆            ┆           ┆            ┆   ┆           ┆ d3fbeffe2 ┆ 23:48:11  ┆       │\n",
      "│ de…        ┆            ┆           ┆            ┆   ┆           ┆ 18ade…    ┆           ┆       │\n",
      "│ 0x897b6293 ┆ 2          ┆ 8         ┆ 206537486  ┆ … ┆ 0.01912   ┆ 0x897b629 ┆ 2024-04-3 ┆ 0     │\n",
      "│ 3bb6286a53 ┆            ┆           ┆            ┆   ┆           ┆ 33bb6286a ┆ 0         ┆       │\n",
      "│ 81006dd35b ┆            ┆           ┆            ┆   ┆           ┆ 5381006dd ┆ 23:49:14  ┆       │\n",
      "│ 71…        ┆            ┆           ┆            ┆   ┆           ┆ 35b71…    ┆           ┆       │\n",
      "│ 0x8b006404 ┆ 5          ┆ 10        ┆ 206537489  ┆ … ┆ 0.306335  ┆ 0x8b00640 ┆ 2024-04-3 ┆ 0     │\n",
      "│ 25804eb40a ┆            ┆           ┆            ┆   ┆           ┆ 425804eb4 ┆ 0         ┆       │\n",
      "│ c29158f106 ┆            ┆           ┆            ┆   ┆           ┆ 0ac29158f ┆ 23:49:15  ┆       │\n",
      "│ 48…        ┆            ┆           ┆            ┆   ┆           ┆ 10648…    ┆           ┆       │\n",
      "│ 0x8c399ba5 ┆ 8          ┆ 17        ┆ 206537497  ┆ … ┆ 2.582005  ┆ 0x8c399ba ┆ 2024-04-3 ┆ 0     │\n",
      "│ 7fb8984248 ┆            ┆           ┆            ┆   ┆           ┆ 57fb89842 ┆ 0         ┆       │\n",
      "│ 96e38336b7 ┆            ┆           ┆            ┆   ┆           ┆ 4896e3833 ┆ 23:49:17  ┆       │\n",
      "│ 02…        ┆            ┆           ┆            ┆   ┆           ┆ 6b702…    ┆           ┆       │\n",
      "│ 0x39fc8d69 ┆ 1          ┆ 3         ┆ 206537521  ┆ … ┆ 2.626645  ┆ 0x39fc8d6 ┆ 2024-04-3 ┆ 0     │\n",
      "│ c5de958db2 ┆            ┆           ┆            ┆   ┆           ┆ 9c5de958d ┆ 0         ┆       │\n",
      "│ ea196cc234 ┆            ┆           ┆            ┆   ┆           ┆ b2ea196cc ┆ 23:49:23  ┆       │\n",
      "│ 5a…        ┆            ┆           ┆            ┆   ┆           ┆ 2345a…    ┆           ┆       │\n",
      "└────────────┴────────────┴───────────┴────────────┴───┴───────────┴───────────┴───────────┴───────┘\n"
     ]
    }
   ],
   "source": [
    "MAV_df = swaps_df.filter(pl.col('max_MAV_USD') > 0)\n",
    "unique_MAV = MAV_df.shape[0]\n",
    "avg_MAV = MAV_df['max_MAV_USD'].median()\n",
    "avg_v_max = MAV_df['V_max_USD'].median()\n",
    "\n",
    "decay_df = swaps_df.filter(pl.col('decay') > 0)\n",
    "avg_decay = decay_df['decay'].mean() / 1_000_000\n",
    "\n",
    "print(MAV_df)"
   ]
  },
  {
   "cell_type": "code",
   "execution_count": 7,
   "metadata": {},
   "outputs": [
    {
     "name": "stdout",
     "output_type": "stream",
     "text": [
      "['transaction_hash', 'transaction_index', 'log_index', 'block_number', 'block_timestamp', 'gas_price', 'amount_ETH', 'amount_USD', 'sqrtPriceX96', 'tick', 'liquidity', 'effective_price', 'spot_price', 'reserve_ETH', 'reserve_USD', 'CEX_price', 'gas_fee_gwei', 'gas_fee_USD', 'price_diff', 'r_price_diff', 'volume_total_USD', 'balance_total_USD', 'LP_Fee_USD', 'LP_Fee_total_USD', 'LP_fee_p', 'block_slippage_USD', 'MAV_USD', 'V_max_ETH', 'reserve_total_USD', 'V_max_USD', 'MAV_threshold', 'MAV_cum_sum', 'MAV_groups', 'max_MAV_USD', 'MAV_USD_right', 'transaction_hash_right', 'block_timestamp_right', 'decay']\n"
     ]
    }
   ],
   "source": [
    "print(swaps_df.columns)"
   ]
  },
  {
   "cell_type": "code",
   "execution_count": null,
   "metadata": {},
   "outputs": [],
   "source": []
  },
  {
   "cell_type": "code",
   "execution_count": 29,
   "metadata": {},
   "outputs": [
    {
     "name": "stdout",
     "output_type": "stream",
     "text": [
      "threshold: 0.000580274709144046\n",
      "threshold: 0.0006\n",
      "\\num{67356} & \\num{117.99} & \\num{45673.2699} & 3e+01s\n"
     ]
    }
   ],
   "source": [
    "file_name = \"./data/swaps-ethereum-Uniswap-v3-WETH-USDC.paraquet\"\n",
    "file_name2 = \"./data/mav-ethereum-Uniswap-v3-WETH-USDC.paraquet\"\n",
    "\n",
    "result = get_arbitrage_stats(file_name, file_name2, 0.0005)\n",
    "print(result)"
   ]
  },
  {
   "cell_type": "code",
   "execution_count": 30,
   "metadata": {},
   "outputs": [
    {
     "name": "stdout",
     "output_type": "stream",
     "text": [
      "threshold: 0.0004272743592323691\n",
      "threshold: 0.0006\n",
      "\\num{47820} & \\num{22.97} & \\num{8028.7190} & 5.9s\n"
     ]
    }
   ],
   "source": [
    "file_name = \"./data/swaps-arbitrum-Uniswap-v3-WETH-USDC.paraquet\"\n",
    "file_name2 = \"./data/mav-arbitrum-Uniswap-v3-WETH-USDC.paraquet\"\n",
    "\n",
    "result = get_arbitrage_stats(file_name, file_name2, 0.0005)\n",
    "print(result)"
   ]
  },
  {
   "cell_type": "code",
   "execution_count": 22,
   "metadata": {},
   "outputs": [
    {
     "name": "stdout",
     "output_type": "stream",
     "text": [
      "threshold: 0.0004633370183902665\n",
      "threshold: 0.0006\n",
      "\\num{79237} & \\num{13.99} & \\num{5604.2819} & 5.7s\n"
     ]
    }
   ],
   "source": [
    "file_name = \"./data/swaps-arbitrum-Uniswap-v3-WETH-USDCe.paraquet\"\n",
    "file_name2 = \"./data/mav-arbitrum-Uniswap-v3-WETH-USDCe.paraquet\"\n",
    "\n",
    "result = get_arbitrage_stats(file_name, file_name2, 0.0005)\n",
    "print(result)"
   ]
  },
  {
   "cell_type": "code",
   "execution_count": 23,
   "metadata": {},
   "outputs": [
    {
     "name": "stdout",
     "output_type": "stream",
     "text": [
      "threshold: 0.0007487822959345849\n",
      "threshold: 0.0007487822959345849\n",
      "\\num{75696} & \\num{1.62} & \\num{1772.4458} & 4.2e+02s\n"
     ]
    }
   ],
   "source": [
    "file_name = \"./data/swaps-base-Uniswap-v3-WETH-USDC.paraquet\"\n",
    "file_name2 = \"./data/mav-base-Uniswap-v3-WETH-USDC.paraquet\"\n",
    "\n",
    "result = get_arbitrage_stats(file_name, file_name2, 0.0005)\n",
    "print(result)"
   ]
  },
  {
   "cell_type": "code",
   "execution_count": 24,
   "metadata": {},
   "outputs": [
    {
     "name": "stdout",
     "output_type": "stream",
     "text": [
      "threshold: 0.0005786300158384338\n",
      "threshold: 0.0006\n",
      "\\num{105714} & \\num{2.98} & \\num{1307.7949} & 1.9e+01s\n"
     ]
    }
   ],
   "source": [
    "file_name = \"./data/swaps-optimism-Uniswap-v3-WETH-USDC.paraquet\"\n",
    "file_name2 = \"./data/mav-optimism-Uniswap-v3-WETH-USDC.paraquet\"\n",
    "\n",
    "result = get_arbitrage_stats(file_name, file_name2, 0.0005)\n",
    "print(result)"
   ]
  },
  {
   "cell_type": "code",
   "execution_count": 25,
   "metadata": {},
   "outputs": [
    {
     "name": "stdout",
     "output_type": "stream",
     "text": [
      "threshold: 0.003126034211046867\n",
      "threshold: 0.003126034211046867\n",
      "\\num{3970} & \\num{1.39} & \\num{489.4339} & 3.9e+02s\n"
     ]
    }
   ],
   "source": [
    "file_name = \"./data/swaps-zkSync-Uniswap-v3-WETH-USDC.paraquet\"\n",
    "file_name2 = \"./data/mav-zkSync-Uniswap-v3-WETH-USDC.paraquet\"\n",
    "\n",
    "result = get_arbitrage_stats(file_name, file_name2, 0.003)\n",
    "print(result)\n"
   ]
  },
  {
   "cell_type": "code",
   "execution_count": null,
   "metadata": {},
   "outputs": [],
   "source": []
  },
  {
   "cell_type": "code",
   "execution_count": 14,
   "metadata": {},
   "outputs": [
    {
     "name": "stdout",
     "output_type": "stream",
     "text": [
      "threshold: 0.003126034211046867\n"
     ]
    }
   ],
   "source": [
    "file_name = \"./data/swaps-arbitrum-Uniswap-v3-WETH-USDC.paraquet\"\n",
    "contract_name = 'Arbitrum-Uniswap-v3-WETH-USDC'\n",
    "fee = 0.0005\n",
    "\n",
    "file_name = \"./data/swaps-arbitrum-Uniswap-v3-WETH-USDCe.paraquet\"\n",
    "contract_name = 'Arbitrum-Uniswap-v3-WETH-USDCe'\n",
    "fee = 0.0005\n",
    "\n",
    "file_name = \"./data/swaps-base-Uniswap-v3-WETH-USDC.paraquet\"\n",
    "contract_name = 'Base-Uniswap-v3-WETH-USDC'\n",
    "fee = 0.0005\n",
    "\n",
    "file_name = \"./data/swaps-optimism-Uniswap-v3-WETH-USDC.paraquet\"\n",
    "contract_name = 'Optimism-Uniswap-v3-WETH-USDCe'\n",
    "fee = 0.0005\n",
    "\n",
    "file_name = \"./data/swaps-zkSync-Uniswap-v3-WETH-USDC.paraquet\"\n",
    "contract_name = 'zkSync-Uniswap-v3-WETH-USDCe'\n",
    "fee = 0.003\n",
    "\n",
    "#file_name = \"./data/swaps-ethereum-Uniswap-v3-WETH-USDC.paraquet\"\n",
    "#contract_name = 'Ethereum-Uniswap-v3-WETH-USDC'\n",
    "#fee = 0.0005\n",
    "\n",
    "\n",
    "df_per_day = get_arbitrate_by_day(file_name, fee)"
   ]
  },
  {
   "cell_type": "code",
   "execution_count": 15,
   "metadata": {},
   "outputs": [],
   "source": [
    "import plotly.graph_objects as go\n",
    "#from utils_plot import *\n",
    "from kaleido import *\n",
    "\n",
    "colors = {'red': '#ee443a', 'blue': '#42bbf1', 'dark_blue': '#1a4fec',\n",
    "          'green': '#50be61', 'grey': '#b7b7b7', 'orange': '#f28222', 'purple': '#6e18ee', 'brown': '#a65628', 'pink': '#ef4793',\n",
    "          'yellow': '#f8c94c', 'black': '#000000', 'white': '#ffffff', 'light_blue': '#a6cee3', 'light_green': '#b2df8a',\n",
    "          'light_grey': '#999999', 'light_orange': '#fdbf6f', 'light_purple': '#cab2d6', 'light_brown': '#ffff99', 'light_pink': '#1f78b4',\n",
    "          'light_yellow': '#fb9a99', 'light_black': '#e31a1c', 'light_white': '#33a02c', 'gold': '#ff7f00', 'silver': '#b2df8a'}\n",
    "\n",
    "layout = go.Layout(\n",
    "    margin=go.layout.Margin(\n",
    "        l=10,  # left margin\n",
    "        r=10,  # right margin\n",
    "        b=10,  # bottom margin\n",
    "        t=10  # top margin\n",
    "    ),\n",
    "    template='simple_white',\n",
    "    xaxis=dict(minor_ticks=\"inside\", showgrid=True, griddash='dash',\n",
    "               minor_griddash=\"dot\"),\n",
    "    yaxis=dict(minor_ticks=\"inside\", showgrid=True, griddash='dash',\n",
    "               minor_griddash=\"dot\"),\n",
    "    #font=dict(size=18, family='Clear Sans',\n",
    "    #          color='black'),\n",
    "\n",
    ")\n",
    "\n",
    "settings = {\n",
    "    'AddLiquidity': {'color': colors['blue'], 'style': None, 'width': 4.5},\n",
    "    'RemoveLiquidity': {'color': colors['red'], 'style': 'dash', 'width': 4},\n",
    "    'RemoveLiquidityOne': {'color': colors['green'], 'style': 'dot', 'width': 3.5},\n",
    "    'RemoveLiquidityImbalance': {'color': colors['brown'], 'style': 'dashdot', 'width': 3},\n",
    "}\n",
    "\n"
   ]
  },
  {
   "cell_type": "code",
   "execution_count": 16,
   "metadata": {},
   "outputs": [
    {
     "data": {
      "image/png": "[encoded data removed]",
      "text/plain": [
       "<Figure size 800x500 with 3 Axes>"
      ]
     },
     "metadata": {},
     "output_type": "display_data"
    }
   ],
   "source": [
    "plt.style.use('https://raw.githubusercontent.com/garrettj403/SciencePlots/master/scienceplots/styles/science.mplstyle')\n",
    "\n",
    "fig = plt.figure(figsize=(8,5))\n",
    "\n",
    "gs1 = gridspec.GridSpec(5, 1)\n",
    "ax1 = fig.add_subplot(gs1[0:1,0])\n",
    "ax2 = fig.add_subplot(gs1[1:,0])\n",
    "ax3 = ax2.twinx()\n",
    "\n",
    "#fig.suptitle(file1)\n",
    "fig.suptitle(f'{contract_name}')\n",
    "\n",
    "#ax1.plot(df_per_day['timestamp'], df_per_day['cum_MAV'], color ='C2')\n",
    "\n",
    "#ax1.plot(df_per_day.index, df_per_day['price_diff']/df_per_day['spot_price'], \n",
    "ax1.bar(df_per_day['block_timestamp'], abs(df_per_day['price_diff']), \n",
    "        color = 'C1',\n",
    "        label = r'Price Difference (\\%)')\n",
    "\n",
    "ax2.fill_between(df_per_day['block_timestamp'],0, df_per_day['reserve_total_USD'], \n",
    "        color ='C2', alpha =0.3,\n",
    "        label = f'Reserves (USD)')\n",
    "\n",
    "ax3.bar(df_per_day['block_timestamp'], df_per_day['max_MAV_USD'],\n",
    "        label = f'MAV (USD)', alpha=0.7)\n",
    "#.rolling(window).var()\n",
    "\n",
    "ax2.set_ylim(0)\n",
    "for a in [ax1, ax2]:\n",
    "    a.set_xlim(min(df_per_day['block_timestamp']),max(df_per_day['block_timestamp']))\n",
    "\n",
    "ax1.set_ylabel('%')\n",
    "\n",
    "ax2.set_ylabel(f'Reserves (USD)')\n",
    "ax3.set_ylabel(f'MAV (USD)')\n",
    "\n",
    "ax1.set_title(\"Price difference in percent\")\n",
    "ax2.set_title(\"MAV vs Reserves\")\n",
    "#ax1.legend(loc=3)\n",
    "ax3.legend(loc=4)\n",
    "ax2.legend(loc=1)\n",
    "\n",
    "ax1.grid()\n",
    "ax2.grid()\n",
    "ax3.grid()\n",
    "\n",
    "gs1.tight_layout(fig)\n",
    "\n",
    "\n",
    "fig.savefig(f\"./plots/{contract_name}_mav.pdf\")\n",
    "\n",
    "plt.show()\n",
    "\n"
   ]
  }
 ],
 "metadata": {
  "kernelspec": {
   "display_name": "Python 3",
   "language": "python",
   "name": "python3"
  },
  "language_info": {
   "codemirror_mode": {
    "name": "ipython",
    "version": 3
   },
   "file_extension": ".py",
   "mimetype": "text/x-python",
   "name": "python",
   "nbconvert_exporter": "python",
   "pygments_lexer": "ipython3",
   "version": "3.9.6"
  },
  "orig_nbformat": 4
 },
 "nbformat": 4,
 "nbformat_minor": 2
}
