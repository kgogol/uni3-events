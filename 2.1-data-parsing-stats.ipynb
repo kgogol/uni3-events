{
 "cells": [
  {
   "cell_type": "code",
   "execution_count": 7,
   "metadata": {},
   "outputs": [],
   "source": [
    "import os\n",
    "from tqdm.notebook import tqdm\n",
    "import polars as pl\n",
    "import json\n"
   ]
  },
  {
   "cell_type": "code",
   "execution_count": 8,
   "metadata": {},
   "outputs": [],
   "source": [
    "# Existing dataset dir\n",
    "data_dir = './data/'\n",
    "\n",
    "# Existing plots dir\n",
    "plots_dir = data_dir+'/plots/'\n",
    "os.makedirs(data_dir, exist_ok=True)\n",
    "os.makedirs(plots_dir, exist_ok=True)\n",
    "\n"
   ]
  },
  {
   "cell_type": "code",
   "execution_count": 9,
   "metadata": {},
   "outputs": [],
   "source": [
    "def process_swaps(file_name, perdiod = \"all\"):\n",
    "    # Load the parquet file\n",
    "    swaps_df = pl.scan_parquet(file_name).collect(streaming=True)\n",
    "\n",
    "    if (perdiod == \"after\") :\n",
    "        start_date = pl.datetime(2024,3,13)\n",
    "        swaps_df = swaps_df.filter((pl.col('block_timestamp') > start_date))\n",
    "\n",
    "    if (perdiod == \"before\") :\n",
    "        start_date = pl.datetime(2024,3,13)\n",
    "        swaps_df = swaps_df.filter((pl.col('block_timestamp') < start_date))\n",
    "\n",
    "    # Calculate required metrics\n",
    "    # Calculate required metrics\n",
    "    total_volume_USD = abs(swaps_df['amount_USD']).sum()\n",
    "    swaps = swaps_df['transaction_hash'].shape[0]\n",
    "    avg_volume_USD = total_volume_USD/swaps\n",
    "    block_numbers = swaps_df['block_number'].n_unique()\n",
    "    avgInBlock = swaps / block_numbers\n",
    "\n",
    "    std_volume_USD = abs(swaps_df['amount_USD']).std()\n",
    "    median_volume_USD = abs(swaps_df['amount_USD']).median()\n",
    "\n",
    "    # Create formatted string\n",
    "    my_row = f\"\\\\num{{{swaps}}} & \\\\num{{{total_volume_USD/1000000:.2f}}} & \\\\num{{{avg_volume_USD:.2f}}} & \\\\num{{{std_volume_USD:.2f}}}& \\\\num{{{median_volume_USD:.2f}}}\"\n",
    "    return my_row\n",
    "\n",
    "def process_swaps_fee(file_name, perdiod = \"all\", lp_fee=5):\n",
    "    # Load the parquet file\n",
    "    swaps_df = pl.scan_parquet(file_name).collect(streaming=True)\n",
    "\n",
    "    if (perdiod == \"after\") :\n",
    "        start_date = pl.datetime(2024,3,13)\n",
    "        swaps_df = swaps_df.filter((pl.col('block_timestamp') > start_date))\n",
    "\n",
    "    if (perdiod == \"before\") :\n",
    "        start_date = pl.datetime(2024,3,13)\n",
    "        swaps_df = swaps_df.filter((pl.col('block_timestamp') < start_date))\n",
    "\n",
    "    # Calculate required metrics\n",
    "\n",
    "    swaps = swaps_df['transaction_hash'].shape[0]\n",
    "    sum_volume_USD = abs(swaps_df['amount_USD']).sum()\n",
    "\n",
    "    sum_total_fee_USD = abs(swaps_df['total_fee_USD']).sum()\n",
    "    sum_gas_fee_USD = abs(swaps_df['gas_fee_USD']).sum()\n",
    "    sum_LP_fee_USD = abs(swaps_df['LP_fee_USD']).sum()\n",
    "    sum_slippage_USD = abs(swaps_df['total_slippage_USD']).sum()\n",
    "\n",
    "    avg_total_fee_USD = sum_total_fee_USD / swaps\n",
    "    bps_total_fee_USD = sum_total_fee_USD / sum_volume_USD * 10000\n",
    "    avg_gas_fee_USD = sum_gas_fee_USD / swaps\n",
    "    bps_gas_fee_USD = sum_gas_fee_USD / sum_volume_USD * 10000\n",
    "    avg_LP_fee_USD = sum_LP_fee_USD / swaps\n",
    "    bps_LP_fee_USD = sum_LP_fee_USD / sum_volume_USD * 10000\n",
    "    avg_slippage_USD = sum_slippage_USD / swaps\n",
    "    bps_slippage_USD = sum_slippage_USD / sum_volume_USD * 10000\n",
    "\n",
    "    median_volume_USD = abs(swaps_df['amount_USD']).mean()\n",
    "    avg_block_impact = abs(swaps_df['block_impact']).mean() * median_volume_USD\n",
    "    bps_block_impact = abs(swaps_df['block_impact']).mean() * 10000\n",
    "    avg_price_impact = abs(swaps_df['price_impact']).mean() * median_volume_USD\n",
    "    bps_price_impact = abs(swaps_df['price_impact']).mean()  * 10000\n",
    "\n",
    "    # Create formatted string\n",
    "    my_row = f\" & \\\\num{{{avg_total_fee_USD:.2f}}} ({bps_total_fee_USD:.0f}bps) & \\\\num{{{avg_gas_fee_USD:.2f}}} ({bps_gas_fee_USD:.0f}bps) & \\\\num{{{avg_LP_fee_USD:.2f}}} ({bps_LP_fee_USD:.0f}bps) & \\\\num{{{avg_slippage_USD:.2f}}} ({bps_slippage_USD:.0f}bps) & - \\\\num{{{avg_block_impact:.2f}}} ({bps_block_impact:.1f}bps) & \\\\num{{{avg_price_impact:.2f}}} ({bps_price_impact:.1f}bps) \"\n",
    "    return my_row\n"
   ]
  },
  {
   "cell_type": "code",
   "execution_count": 10,
   "metadata": {},
   "outputs": [
    {
     "name": "stdout",
     "output_type": "stream",
     "text": [
      " & \\num{97.20} (21bps) & \\num{37.13} (8bps) & \\num{23.11} (5bps) & \\num{65.33} (14bps) & - \\num{0.00} (0.0bps) & \\num{4.33} (0.9bps) \n",
      " & \\num{92.96} (22bps) & \\num{39.30} (9bps) & \\num{20.94} (5bps) & \\num{59.43} (14bps) & - \\num{0.00} (0.0bps) & \\num{3.55} (0.8bps) \n",
      " & \\num{102.26} (20bps) & \\num{34.56} (7bps) & \\num{25.69} (5bps) & \\num{72.35} (14bps) & - \\num{0.00} (0.0bps) & \\num{5.37} (1.0bps) \n"
     ]
    }
   ],
   "source": [
    "file_name = \"./data/swaps-ethereum-Uniswap-v3-WETH-USDC.paraquet\"\n",
    "result = process_swaps_fee(file_name)\n",
    "print(result)\n",
    "result = process_swaps_fee(file_name, \"before\")\n",
    "print(result)\n",
    "result = process_swaps_fee(file_name, \"after\")\n",
    "print(result)"
   ]
  },
  {
   "cell_type": "code",
   "execution_count": 11,
   "metadata": {},
   "outputs": [
    {
     "name": "stdout",
     "output_type": "stream",
     "text": [
      " & \\num{2.46} (8bps) & \\num{0.65} (2bps) & \\num{1.51} (5bps) & \\num{1.82} (6bps) & - \\num{0.00} (0.0bps) & \\num{0.05} (0.2bps) \n",
      " & \\num{9.68} (10bps) & \\num{4.16} (4bps) & \\num{4.73} (5bps) & \\num{5.76} (6bps) & - \\num{0.00} (0.0bps) & \\num{0.36} (0.4bps) \n",
      " & \\num{2.00} (8bps) & \\num{0.42} (2bps) & \\num{1.31} (5bps) & \\num{1.57} (6bps) & - \\num{0.00} (0.0bps) & \\num{0.04} (0.2bps) \n"
     ]
    }
   ],
   "source": [
    "file_name = \"./data/swaps-arbitrum-Uniswap-v3-WETH-USDC.paraquet\"\n",
    "result = process_swaps_fee(file_name)\n",
    "print(result)\n",
    "result = process_swaps_fee(file_name, \"before\")\n",
    "print(result)\n",
    "result = process_swaps_fee(file_name, \"after\")\n",
    "print(result)"
   ]
  },
  {
   "cell_type": "code",
   "execution_count": 12,
   "metadata": {},
   "outputs": [
    {
     "name": "stdout",
     "output_type": "stream",
     "text": [
      " & \\num{5.55} (15bps) & \\num{3.41} (9bps) & \\num{1.81} (5bps) & \\num{2.18} (6bps) & - \\num{0.00} (0.0bps) & \\num{0.11} (0.3bps) \n",
      " & \\num{6.28} (11bps) & \\num{3.08} (6bps) & \\num{2.77} (5bps) & \\num{3.30} (6bps) & - \\num{0.00} (0.0bps) & \\num{0.20} (0.4bps) \n",
      " & \\num{5.05} (22bps) & \\num{3.64} (16bps) & \\num{1.15} (5bps) & \\num{1.41} (6bps) & - \\num{0.00} (0.0bps) & \\num{0.06} (0.3bps) \n"
     ]
    }
   ],
   "source": [
    "file_name = \"./data/swaps-arbitrum-Uniswap-v3-WETH-USDCe.paraquet\"\n",
    "result = process_swaps_fee(file_name)\n",
    "print(result)\n",
    "result = process_swaps_fee(file_name, \"before\")\n",
    "print(result)\n",
    "result = process_swaps_fee(file_name, \"after\")\n",
    "print(result)"
   ]
  },
  {
   "cell_type": "code",
   "execution_count": 13,
   "metadata": {},
   "outputs": [
    {
     "name": "stdout",
     "output_type": "stream",
     "text": [
      " & \\num{1.76} (10bps) & \\num{0.52} (3bps) & \\num{0.89} (5bps) & \\num{1.24} (7bps) & - \\num{0.00} (0.0bps) & \\num{0.09} (0.5bps) \n",
      " & \\num{0.43} (22bps) & \\num{0.11} (6bps) & \\num{0.10} (5bps) & \\num{0.36} (18bps) & - \\num{0.00} (0.0bps) & \\num{0.03} (1.4bps) \n",
      " & \\num{1.99} (10bps) & \\num{0.59} (3bps) & \\num{1.02} (5bps) & \\num{1.40} (7bps) & - \\num{0.00} (0.0bps) & \\num{0.07} (0.4bps) \n"
     ]
    }
   ],
   "source": [
    "file_name = \"./data/swaps-base-Uniswap-v3-WETH-USDC.paraquet\"\n",
    "result = process_swaps_fee(file_name)\n",
    "print(result)\n",
    "result = process_swaps_fee(file_name, \"before\")\n",
    "print(result)\n",
    "result = process_swaps_fee(file_name, \"after\")\n",
    "print(result)"
   ]
  },
  {
   "cell_type": "code",
   "execution_count": 14,
   "metadata": {},
   "outputs": [
    {
     "name": "stdout",
     "output_type": "stream",
     "text": [
      " & \\num{1.33} (11bps) & \\num{0.31} (2bps) & \\num{0.61} (5bps) & \\num{1.10} (9bps) & - \\num{0.00} (0.0bps) & \\num{0.09} (0.7bps) \n",
      " & \\num{1.55} (10bps) & \\num{0.36} (2bps) & \\num{0.78} (5bps) & \\num{1.27} (8bps) & - \\num{0.00} (0.0bps) & \\num{0.10} (0.7bps) \n",
      " & \\num{1.17} (12bps) & \\num{0.26} (3bps) & \\num{0.49} (5bps) & \\num{0.97} (10bps) & - \\num{0.00} (0.0bps) & \\num{0.08} (0.8bps) \n"
     ]
    }
   ],
   "source": [
    "file_name = \"./data/swaps-optimism-Uniswap-v3-WETH-USDC.paraquet\"\n",
    "result = process_swaps_fee(file_name)\n",
    "print(result)\n",
    "result = process_swaps_fee(file_name, \"before\")\n",
    "print(result)\n",
    "result = process_swaps_fee(file_name, \"after\")\n",
    "print(result)"
   ]
  },
  {
   "cell_type": "code",
   "execution_count": 15,
   "metadata": {},
   "outputs": [
    {
     "name": "stdout",
     "output_type": "stream",
     "text": [
      " & \\num{0.87} (50bps) & \\num{0.25} (15bps) & \\num{0.52} (30bps) & \\num{0.65} (38bps) & - \\num{0.00} (0.0bps) & \\num{0.04} (2.4bps) \n",
      " & \\num{1.37} (49bps) & \\num{0.37} (13bps) & \\num{0.83} (30bps) & \\num{1.03} (37bps) & - \\num{0.00} (0.0bps) & \\num{0.06} (2.1bps) \n",
      " & \\num{0.32} (56bps) & \\num{0.12} (21bps) & \\num{0.17} (30bps) & \\num{0.24} (40bps) & - \\num{0.00} (0.0bps) & \\num{0.02} (2.7bps) \n"
     ]
    }
   ],
   "source": [
    "file_name = \"./data/swaps-zkSync-Uniswap-v3-WETH-USDC.paraquet\"\n",
    "result = process_swaps_fee(file_name, lp_fee=30)\n",
    "print(result)\n",
    "result = process_swaps_fee(file_name, \"before\", 30)\n",
    "print(result)\n",
    "result = process_swaps_fee(file_name, \"after\", 30)\n",
    "print(result)"
   ]
  },
  {
   "cell_type": "code",
   "execution_count": 16,
   "metadata": {},
   "outputs": [],
   "source": [
    "file_name = \"./data/swaps-base-Uniswap-v3-WETH-USDC.paraquet\"\n",
    "swaps_df = pl.scan_parquet(file_name).collect(streaming=True)\n",
    "\n",
    "# Create formatted string\n",
    "#my_row = f\"\\\\num{{{total_volume_USD}}} & \\\\num{{{swaps}}} & \\\\num{{{avg_volume_USD}}} & \\\\num{{{std_volume_USD}}}& \\\\num{{{median_volume_USD:.2f}}}\"\n",
    "#my_row"
   ]
  },
  {
   "cell_type": "code",
   "execution_count": 17,
   "metadata": {},
   "outputs": [
    {
     "data": {
      "text/html": [
       "<div><style>\n",
       ".dataframe > thead > tr,\n",
       ".dataframe > tbody > tr {\n",
       "  text-align: right;\n",
       "  white-space: pre-wrap;\n",
       "}\n",
       "</style>\n",
       "<small>shape: (1_687_530, 26)</small><table border=\"1\" class=\"dataframe\"><thead><tr><th>transaction_hash</th><th>transaction_index</th><th>log_index</th><th>block_number</th><th>block_timestamp</th><th>gas_price</th><th>amount_ETH</th><th>amount_USD</th><th>sqrtPriceX96</th><th>tick</th><th>liquidity</th><th>effective_price</th><th>spot_price</th><th>reserve_ETH</th><th>reserve_USD</th><th>CEX_price</th><th>gas_fee_gwei</th><th>gas_fee_USD</th><th>LP_fee_USD</th><th>total_slippage_USD</th><th>total_fee_USD</th><th>price_impact</th><th>volume_USD</th><th>block_slippage_USD</th><th>block_impact</th><th>total_fees</th></tr><tr><td>str</td><td>i64</td><td>i64</td><td>i64</td><td>datetime[μs]</td><td>i64</td><td>f64</td><td>f64</td><td>f64</td><td>i64</td><td>f64</td><td>f64</td><td>f64</td><td>f64</td><td>f64</td><td>f64</td><td>f64</td><td>f64</td><td>f64</td><td>f64</td><td>f64</td><td>f64</td><td>f64</td><td>f64</td><td>f64</td><td>f64</td></tr></thead><tbody><tr><td>&quot;0x9a3d769c9149…</td><td>7</td><td>40</td><td>8638929</td><td>2024-01-01 00:00:05</td><td>1100055</td><td>-0.000942</td><td>2.150611</td><td>3.7843e24</td><td>-198995</td><td>2.9579e16</td><td>2282.53542</td><td>2281.396886</td><td>619.272645</td><td>1.4128e6</td><td>2281.65</td><td>3374.56172</td><td>0.0077</td><td>0.001075</td><td>null</td><td>null</td><td>0.000002</td><td>2.150611</td><td>0.0</td><td>0.0</td><td>0.5294</td></tr><tr><td>&quot;0x59b2d13ba831…</td><td>5</td><td>17</td><td>8638941</td><td>2024-01-01 00:00:29</td><td>1200061</td><td>0.013515</td><td>-30.817117</td><td>3.7842e24</td><td>-198996</td><td>2.9579e16</td><td>2280.206393</td><td>2281.29736</td><td>619.286153</td><td>1.4128e6</td><td>2281.19</td><td>718.243709</td><td>0.001638</td><td>0.015409</td><td>-0.01609</td><td>0.000957</td><td>0.000022</td><td>30.817117</td><td>0.0</td><td>0.0</td><td>0.035401</td></tr><tr><td>&quot;0x8e1edc43003e…</td><td>3</td><td>5</td><td>8638990</td><td>2024-01-01 00:02:07</td><td>5695</td><td>0.001</td><td>-2.280153</td><td>3.7842e24</td><td>-198996</td><td>2.9579e16</td><td>2280.153</td><td>2281.289997</td><td>619.287153</td><td>1.4128e6</td><td>2283.47</td><td>0.918922</td><td>0.000002</td><td>0.00114</td><td>-0.001144</td><td>-0.000002</td><td>0.000002</td><td>2.280153</td><td>0.0</td><td>0.0</td><td>0.498649</td></tr><tr><td>&quot;0x005b59dc28c2…</td><td>4</td><td>53</td><td>8639044</td><td>2024-01-01 00:03:55</td><td>10000</td><td>-0.026278</td><td>60.0</td><td>3.7850e24</td><td>-198991</td><td>2.9579e16</td><td>2283.303265</td><td>2282.258471</td><td>619.155742</td><td>1.4131e6</td><td>2285.69</td><td>185.52674</td><td>0.000424</td><td>0.03</td><td>0.042725</td><td>0.073149</td><td>0.000042</td><td>60.0</td><td>0.0</td><td>0.0</td><td>0.017413</td></tr><tr><td>&quot;0x005b59dc28c2…</td><td>4</td><td>26</td><td>8639044</td><td>2024-01-01 00:03:55</td><td>10000</td><td>-0.026284</td><td>60.0</td><td>3.7845e24</td><td>-198994</td><td>2.9579e16</td><td>2282.721877</td><td>2281.677362</td><td>619.234582</td><td>1.4129e6</td><td>2285.69</td><td>185.52674</td><td>0.000424</td><td>0.03</td><td>0.032545</td><td>0.062969</td><td>0.000042</td><td>60.0</td><td>60.0</td><td>1.8034e-9</td><td>0.017409</td></tr><tr><td>&hellip;</td><td>&hellip;</td><td>&hellip;</td><td>&hellip;</td><td>&hellip;</td><td>&hellip;</td><td>&hellip;</td><td>&hellip;</td><td>&hellip;</td><td>&hellip;</td><td>&hellip;</td><td>&hellip;</td><td>&hellip;</td><td>&hellip;</td><td>&hellip;</td><td>&hellip;</td><td>&hellip;</td><td>&hellip;</td><td>&hellip;</td><td>&hellip;</td><td>&hellip;</td><td>&hellip;</td><td>&hellip;</td><td>&hellip;</td><td>&hellip;</td><td>&hellip;</td></tr><tr><td>&quot;0x50313da7cd6c…</td><td>1</td><td>5</td><td>13866120</td><td>2024-04-30 23:59:47</td><td>739651314</td><td>-0.191372</td><td>576.748554</td><td>4.3484e24</td><td>-196216</td><td>2.5013e18</td><td>3013.749881</td><td>3012.25565</td><td>45573.510067</td><td>1.3728e8</td><td>3011.6</td><td>110329.348601</td><td>0.332268</td><td>0.288374</td><td>0.281105</td><td>0.901747</td><td>0.000004</td><td>576.748554</td><td>0.0</td><td>0.0</td><td>0.002591</td></tr><tr><td>&quot;0x50fb9d88d8d7…</td><td>4</td><td>10</td><td>13866120</td><td>2024-04-30 23:59:47</td><td>49481257</td><td>-0.1917</td><td>577.740655</td><td>4.3484e24</td><td>-196216</td><td>2.5013e18</td><td>3013.775211</td><td>3012.280991</td><td>45573.318367</td><td>1.3728e8</td><td>3011.6</td><td>46233.158847</td><td>0.139236</td><td>0.28887</td><td>0.29615</td><td>0.724256</td><td>0.000004</td><td>577.740655</td><td>576.748554</td><td>1.7681e-11</td><td>0.002586</td></tr><tr><td>&quot;0x7b052d9ed1da…</td><td>17</td><td>75</td><td>13866120</td><td>2024-04-30 23:59:47</td><td>32957389</td><td>-0.02074</td><td>62.506288</td><td>4.3484e24</td><td>-196216</td><td>2.5013e18</td><td>3013.789298</td><td>3012.283733</td><td>45573.297627</td><td>1.3728e8</td><td>3011.6</td><td>12248.053346</td><td>0.036886</td><td>0.031253</td><td>0.031808</td><td>0.099947</td><td>4.5532e-7</td><td>62.506288</td><td>1154.489209</td><td>3.8292e-12</td><td>0.024087</td></tr><tr><td>&quot;0x80dd1c3f871a…</td><td>59</td><td>241</td><td>13866123</td><td>2024-04-30 23:59:53</td><td>32871360</td><td>-0.033113</td><td>99.795518</td><td>4.3484e24</td><td>-196216</td><td>2.5013e18</td><td>3013.792825</td><td>3012.28811</td><td>45573.264514</td><td>1.3728e8</td><td>3011.6</td><td>14353.410829</td><td>0.043227</td><td>0.049898</td><td>0.05107</td><td>0.144194</td><td>7.2695e-7</td><td>99.795518</td><td>0.0</td><td>0.0</td><td>0.015078</td></tr><tr><td>&quot;0x92a93e806e0a…</td><td>72</td><td>289</td><td>13866123</td><td>2024-04-30 23:59:53</td><td>32784033</td><td>0.28443</td><td>-856.351372</td><td>4.3484e24</td><td>-196216</td><td>2.5013e18</td><td>3010.763183</td><td>3012.250529</td><td>45573.548802</td><td>1.3728e8</td><td>3011.6</td><td>13226.423058</td><td>0.039833</td><td>0.428176</td><td>-0.43249</td><td>0.035518</td><td>0.000006</td><td>856.351372</td><td>99.795518</td><td>4.5348e-12</td><td>0.001737</td></tr></tbody></table></div>"
      ],
      "text/plain": [
       "shape: (1_687_530, 26)\n",
       "┌───────────┬───────────┬───────────┬───────────┬───┬───────────┬───────────┬───────────┬──────────┐\n",
       "│ transacti ┆ transacti ┆ log_index ┆ block_num ┆ … ┆ volume_US ┆ block_sli ┆ block_imp ┆ total_fe │\n",
       "│ on_hash   ┆ on_index  ┆ ---       ┆ ber       ┆   ┆ D         ┆ ppage_USD ┆ act       ┆ es       │\n",
       "│ ---       ┆ ---       ┆ i64       ┆ ---       ┆   ┆ ---       ┆ ---       ┆ ---       ┆ ---      │\n",
       "│ str       ┆ i64       ┆           ┆ i64       ┆   ┆ f64       ┆ f64       ┆ f64       ┆ f64      │\n",
       "╞═══════════╪═══════════╪═══════════╪═══════════╪═══╪═══════════╪═══════════╪═══════════╪══════════╡\n",
       "│ 0x9a3d769 ┆ 7         ┆ 40        ┆ 8638929   ┆ … ┆ 2.150611  ┆ 0.0       ┆ 0.0       ┆ 0.5294   │\n",
       "│ c9149d6ae ┆           ┆           ┆           ┆   ┆           ┆           ┆           ┆          │\n",
       "│ 7d6d35c72 ┆           ┆           ┆           ┆   ┆           ┆           ┆           ┆          │\n",
       "│ b9fde…    ┆           ┆           ┆           ┆   ┆           ┆           ┆           ┆          │\n",
       "│ 0x59b2d13 ┆ 5         ┆ 17        ┆ 8638941   ┆ … ┆ 30.817117 ┆ 0.0       ┆ 0.0       ┆ 0.035401 │\n",
       "│ ba83113c8 ┆           ┆           ┆           ┆   ┆           ┆           ┆           ┆          │\n",
       "│ dc2e7d364 ┆           ┆           ┆           ┆   ┆           ┆           ┆           ┆          │\n",
       "│ 3419b…    ┆           ┆           ┆           ┆   ┆           ┆           ┆           ┆          │\n",
       "│ 0x8e1edc4 ┆ 3         ┆ 5         ┆ 8638990   ┆ … ┆ 2.280153  ┆ 0.0       ┆ 0.0       ┆ 0.498649 │\n",
       "│ 3003ec40c ┆           ┆           ┆           ┆   ┆           ┆           ┆           ┆          │\n",
       "│ 49900e0cb ┆           ┆           ┆           ┆   ┆           ┆           ┆           ┆          │\n",
       "│ 30718…    ┆           ┆           ┆           ┆   ┆           ┆           ┆           ┆          │\n",
       "│ 0x005b59d ┆ 4         ┆ 53        ┆ 8639044   ┆ … ┆ 60.0      ┆ 0.0       ┆ 0.0       ┆ 0.017413 │\n",
       "│ c28c220ef ┆           ┆           ┆           ┆   ┆           ┆           ┆           ┆          │\n",
       "│ 92e1de792 ┆           ┆           ┆           ┆   ┆           ┆           ┆           ┆          │\n",
       "│ a0617…    ┆           ┆           ┆           ┆   ┆           ┆           ┆           ┆          │\n",
       "│ 0x005b59d ┆ 4         ┆ 26        ┆ 8639044   ┆ … ┆ 60.0      ┆ 60.0      ┆ 1.8034e-9 ┆ 0.017409 │\n",
       "│ c28c220ef ┆           ┆           ┆           ┆   ┆           ┆           ┆           ┆          │\n",
       "│ 92e1de792 ┆           ┆           ┆           ┆   ┆           ┆           ┆           ┆          │\n",
       "│ a0617…    ┆           ┆           ┆           ┆   ┆           ┆           ┆           ┆          │\n",
       "│ …         ┆ …         ┆ …         ┆ …         ┆ … ┆ …         ┆ …         ┆ …         ┆ …        │\n",
       "│ 0x50313da ┆ 1         ┆ 5         ┆ 13866120  ┆ … ┆ 576.74855 ┆ 0.0       ┆ 0.0       ┆ 0.002591 │\n",
       "│ 7cd6c00b8 ┆           ┆           ┆           ┆   ┆ 4         ┆           ┆           ┆          │\n",
       "│ 2d740c9ab ┆           ┆           ┆           ┆   ┆           ┆           ┆           ┆          │\n",
       "│ 3fcf4…    ┆           ┆           ┆           ┆   ┆           ┆           ┆           ┆          │\n",
       "│ 0x50fb9d8 ┆ 4         ┆ 10        ┆ 13866120  ┆ … ┆ 577.74065 ┆ 576.74855 ┆ 1.7681e-1 ┆ 0.002586 │\n",
       "│ 8d8d73c28 ┆           ┆           ┆           ┆   ┆ 5         ┆ 4         ┆ 1         ┆          │\n",
       "│ c820c4e71 ┆           ┆           ┆           ┆   ┆           ┆           ┆           ┆          │\n",
       "│ 0fea7…    ┆           ┆           ┆           ┆   ┆           ┆           ┆           ┆          │\n",
       "│ 0x7b052d9 ┆ 17        ┆ 75        ┆ 13866120  ┆ … ┆ 62.506288 ┆ 1154.4892 ┆ 3.8292e-1 ┆ 0.024087 │\n",
       "│ ed1daaf79 ┆           ┆           ┆           ┆   ┆           ┆ 09        ┆ 2         ┆          │\n",
       "│ 874a269e4 ┆           ┆           ┆           ┆   ┆           ┆           ┆           ┆          │\n",
       "│ ad60f…    ┆           ┆           ┆           ┆   ┆           ┆           ┆           ┆          │\n",
       "│ 0x80dd1c3 ┆ 59        ┆ 241       ┆ 13866123  ┆ … ┆ 99.795518 ┆ 0.0       ┆ 0.0       ┆ 0.015078 │\n",
       "│ f871a61ff ┆           ┆           ┆           ┆   ┆           ┆           ┆           ┆          │\n",
       "│ 7d3ccd7ea ┆           ┆           ┆           ┆   ┆           ┆           ┆           ┆          │\n",
       "│ d45f7…    ┆           ┆           ┆           ┆   ┆           ┆           ┆           ┆          │\n",
       "│ 0x92a93e8 ┆ 72        ┆ 289       ┆ 13866123  ┆ … ┆ 856.35137 ┆ 99.795518 ┆ 4.5348e-1 ┆ 0.001737 │\n",
       "│ 06e0af194 ┆           ┆           ┆           ┆   ┆ 2         ┆           ┆ 2         ┆          │\n",
       "│ dac5b914b ┆           ┆           ┆           ┆   ┆           ┆           ┆           ┆          │\n",
       "│ f47a4…    ┆           ┆           ┆           ┆   ┆           ┆           ┆           ┆          │\n",
       "└───────────┴───────────┴───────────┴───────────┴───┴───────────┴───────────┴───────────┴──────────┘"
      ]
     },
     "execution_count": 17,
     "metadata": {},
     "output_type": "execute_result"
    }
   ],
   "source": [
    "\n",
    "swaps_df"
   ]
  },
  {
   "cell_type": "code",
   "execution_count": null,
   "metadata": {},
   "outputs": [],
   "source": [
    "swaps_df['amount_USD']"
   ]
  }
 ],
 "metadata": {
  "kernelspec": {
   "display_name": "Python 3",
   "language": "python",
   "name": "python3"
  },
  "language_info": {
   "codemirror_mode": {
    "name": "ipython",
    "version": 3
   },
   "file_extension": ".py",
   "mimetype": "text/x-python",
   "name": "python",
   "nbconvert_exporter": "python",
   "pygments_lexer": "ipython3",
   "version": "3.9.6"
  },
  "orig_nbformat": 4
 },
 "nbformat": 4,
 "nbformat_minor": 2
}
