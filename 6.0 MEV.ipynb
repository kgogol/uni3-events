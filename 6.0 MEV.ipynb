{
 "cells": [
  {
   "cell_type": "code",
   "execution_count": 30,
   "metadata": {},
   "outputs": [],
   "source": [
    "import os\n",
    "from tqdm.notebook import tqdm\n",
    "import polars as pl\n",
    "import json\n",
    "import plotly.graph_objects as go\n",
    "\n"
   ]
  },
  {
   "cell_type": "code",
   "execution_count": 31,
   "metadata": {},
   "outputs": [],
   "source": [
    "# Existing dataset dir\n",
    "data_dir = './data/'\n",
    "\n",
    "# Existing plots dir\n",
    "plots_dir = data_dir+'/plots/'\n",
    "os.makedirs(data_dir, exist_ok=True)\n",
    "os.makedirs(plots_dir, exist_ok=True)\n"
   ]
  },
  {
   "cell_type": "code",
   "execution_count": 32,
   "metadata": {},
   "outputs": [
    {
     "name": "stdout",
     "output_type": "stream",
     "text": [
      "2367361\n",
      "2400000\n",
      "1709619\n"
     ]
    },
    {
     "data": {
      "text/plain": [
       "'0.25s & \\\\num{0.13} & \\\\num{1.01}  & \\\\num{1.40} '"
      ]
     },
     "execution_count": 32,
     "metadata": {},
     "output_type": "execute_result"
    }
   ],
   "source": [
    "file_name = \"./data/swaps-arbitrum-Uniswap-v3-WETH-USDC.paraquet\"\n",
    "swaps_df = pl.scan_parquet(file_name).collect(streaming=True)\n",
    "\n",
    "# Calculate required metrics\n",
    "unique = swaps_df['transaction_hash'].n_unique()\n",
    "print(unique)\n",
    "\n",
    "swaps = swaps_df['transaction_hash'].shape[0]\n",
    "print(swaps)\n",
    "\n",
    "block_numbers = swaps_df['block_number'].n_unique()\n",
    "print(block_numbers)\n",
    "\n",
    "avgInBlock = swaps / block_numbers\n",
    "minBlock = swaps_df['block_number'].min()\n",
    "maxBlock = swaps_df['block_number'].max()\n",
    "total_block =  maxBlock - minBlock\n",
    "avgInBlock2 = swaps / total_block\n",
    "minTimestamp = swaps_df['block_timestamp'].min()\n",
    "maxTimestamp = swaps_df['block_timestamp'].max()\n",
    "avgBlockTime = (maxTimestamp - minTimestamp).total_seconds() / (total_block)\n",
    "swapPerTransaction = swaps / unique\n",
    "\n",
    "# Create formatted string\n",
    "my_row = f\"{avgBlockTime:.2f}s & \\\\num{{{avgInBlock2:.2f}}} & \\\\num{{{swapPerTransaction:.2f}}}  & \\\\num{{{avgInBlock:.2f}}} \"\n",
    "my_row"
   ]
  },
  {
   "cell_type": "code",
   "execution_count": 43,
   "metadata": {},
   "outputs": [
    {
     "data": {
      "text/html": [
       "<div><style>\n",
       ".dataframe > thead > tr,\n",
       ".dataframe > tbody > tr {\n",
       "  text-align: right;\n",
       "  white-space: pre-wrap;\n",
       "}\n",
       "</style>\n",
       "<small>shape: (1_709_619, 3)</small><table border=\"1\" class=\"dataframe\"><thead><tr><th>block_number</th><th>transaction_count</th><th>sum_sign</th></tr><tr><td>i64</td><td>u32</td><td>i32</td></tr></thead><tbody><tr><td>203025804</td><td>6</td><td>6</td></tr><tr><td>199095196</td><td>1</td><td>-1</td></tr><tr><td>192401643</td><td>1</td><td>1</td></tr><tr><td>197658569</td><td>2</td><td>-2</td></tr><tr><td>206026748</td><td>1</td><td>1</td></tr><tr><td>&hellip;</td><td>&hellip;</td><td>&hellip;</td></tr><tr><td>198822914</td><td>1</td><td>-1</td></tr><tr><td>199252468</td><td>1</td><td>-1</td></tr><tr><td>197080856</td><td>1</td><td>1</td></tr><tr><td>199249839</td><td>2</td><td>-2</td></tr><tr><td>202294826</td><td>1</td><td>-1</td></tr></tbody></table></div>"
      ],
      "text/plain": [
       "shape: (1_709_619, 3)\n",
       "┌──────────────┬───────────────────┬──────────┐\n",
       "│ block_number ┆ transaction_count ┆ sum_sign │\n",
       "│ ---          ┆ ---               ┆ ---      │\n",
       "│ i64          ┆ u32               ┆ i32      │\n",
       "╞══════════════╪═══════════════════╪══════════╡\n",
       "│ 203025804    ┆ 6                 ┆ 6        │\n",
       "│ 199095196    ┆ 1                 ┆ -1       │\n",
       "│ 192401643    ┆ 1                 ┆ 1        │\n",
       "│ 197658569    ┆ 2                 ┆ -2       │\n",
       "│ 206026748    ┆ 1                 ┆ 1        │\n",
       "│ …            ┆ …                 ┆ …        │\n",
       "│ 198822914    ┆ 1                 ┆ -1       │\n",
       "│ 199252468    ┆ 1                 ┆ -1       │\n",
       "│ 197080856    ┆ 1                 ┆ 1        │\n",
       "│ 199249839    ┆ 2                 ┆ -2       │\n",
       "│ 202294826    ┆ 1                 ┆ -1       │\n",
       "└──────────────┴───────────────────┴──────────┘"
      ]
     },
     "execution_count": 43,
     "metadata": {},
     "output_type": "execute_result"
    }
   ],
   "source": [
    "#max_MAV_df = swaps_df.group_by('MAV_groups').agg(pl.max(\"MAV_USD\").alias(\"max_MAV_USD\"))\n",
    "\n",
    "swaps_df = swaps_df.with_columns(\n",
    "    (pl.when(pl.col('amount_ETH') > 0).then(1).otherwise(-1)).alias('sign')\n",
    ")\n",
    "\n",
    "transactions = swaps_df.group_by('block_number').agg(\n",
    "    [\n",
    "        pl.col('transaction_hash').count().alias('transaction_count'),\n",
    "        pl.sum('sign').alias('sum_sign')\n",
    "    ]\n",
    ")\n",
    "transactions"
   ]
  },
  {
   "cell_type": "code",
   "execution_count": 44,
   "metadata": {},
   "outputs": [
    {
     "data": {
      "text/html": [
       "<div><style>\n",
       ".dataframe > thead > tr,\n",
       ".dataframe > tbody > tr {\n",
       "  text-align: right;\n",
       "  white-space: pre-wrap;\n",
       "}\n",
       "</style>\n",
       "<small>shape: (378_067, 3)</small><table border=\"1\" class=\"dataframe\"><thead><tr><th>block_number</th><th>transaction_count</th><th>sum_sign</th></tr><tr><td>i64</td><td>u32</td><td>i32</td></tr></thead><tbody><tr><td>197658569</td><td>2</td><td>-2</td></tr><tr><td>187706590</td><td>2</td><td>-2</td></tr><tr><td>203488105</td><td>2</td><td>-2</td></tr><tr><td>203937848</td><td>2</td><td>-2</td></tr><tr><td>192100282</td><td>2</td><td>2</td></tr><tr><td>&hellip;</td><td>&hellip;</td><td>&hellip;</td></tr><tr><td>202755108</td><td>38</td><td>-36</td></tr><tr><td>202778355</td><td>38</td><td>38</td></tr><tr><td>201837856</td><td>39</td><td>-39</td></tr><tr><td>201901374</td><td>41</td><td>39</td></tr><tr><td>201905166</td><td>42</td><td>-42</td></tr></tbody></table></div>"
      ],
      "text/plain": [
       "shape: (378_067, 3)\n",
       "┌──────────────┬───────────────────┬──────────┐\n",
       "│ block_number ┆ transaction_count ┆ sum_sign │\n",
       "│ ---          ┆ ---               ┆ ---      │\n",
       "│ i64          ┆ u32               ┆ i32      │\n",
       "╞══════════════╪═══════════════════╪══════════╡\n",
       "│ 197658569    ┆ 2                 ┆ -2       │\n",
       "│ 187706590    ┆ 2                 ┆ -2       │\n",
       "│ 203488105    ┆ 2                 ┆ -2       │\n",
       "│ 203937848    ┆ 2                 ┆ -2       │\n",
       "│ 192100282    ┆ 2                 ┆ 2        │\n",
       "│ …            ┆ …                 ┆ …        │\n",
       "│ 202755108    ┆ 38                ┆ -36      │\n",
       "│ 202778355    ┆ 38                ┆ 38       │\n",
       "│ 201837856    ┆ 39                ┆ -39      │\n",
       "│ 201901374    ┆ 41                ┆ 39       │\n",
       "│ 201905166    ┆ 42                ┆ -42      │\n",
       "└──────────────┴───────────────────┴──────────┘"
      ]
     },
     "execution_count": 44,
     "metadata": {},
     "output_type": "execute_result"
    }
   ],
   "source": [
    "transactions2 = transactions.filter(pl.col('transaction_count') > 1)\n",
    "transactions2.sort(pl.col('transaction_count'))"
   ]
  },
  {
   "cell_type": "code",
   "execution_count": 46,
   "metadata": {},
   "outputs": [
    {
     "data": {
      "text/html": [
       "<div><style>\n",
       ".dataframe > thead > tr,\n",
       ".dataframe > tbody > tr {\n",
       "  text-align: right;\n",
       "  white-space: pre-wrap;\n",
       "}\n",
       "</style>\n",
       "<small>shape: (67_484, 3)</small><table border=\"1\" class=\"dataframe\"><thead><tr><th>block_number</th><th>transaction_count</th><th>sum_sign</th></tr><tr><td>i64</td><td>u32</td><td>i32</td></tr></thead><tbody><tr><td>203291720</td><td>2</td><td>0</td></tr><tr><td>202339980</td><td>6</td><td>-4</td></tr><tr><td>202493227</td><td>2</td><td>0</td></tr><tr><td>204821206</td><td>2</td><td>0</td></tr><tr><td>192024382</td><td>3</td><td>1</td></tr><tr><td>&hellip;</td><td>&hellip;</td><td>&hellip;</td></tr><tr><td>192034674</td><td>3</td><td>-1</td></tr><tr><td>204137561</td><td>2</td><td>0</td></tr><tr><td>200840380</td><td>2</td><td>0</td></tr><tr><td>190569355</td><td>2</td><td>0</td></tr><tr><td>193518104</td><td>9</td><td>-3</td></tr></tbody></table></div>"
      ],
      "text/plain": [
       "shape: (67_484, 3)\n",
       "┌──────────────┬───────────────────┬──────────┐\n",
       "│ block_number ┆ transaction_count ┆ sum_sign │\n",
       "│ ---          ┆ ---               ┆ ---      │\n",
       "│ i64          ┆ u32               ┆ i32      │\n",
       "╞══════════════╪═══════════════════╪══════════╡\n",
       "│ 203291720    ┆ 2                 ┆ 0        │\n",
       "│ 202339980    ┆ 6                 ┆ -4       │\n",
       "│ 202493227    ┆ 2                 ┆ 0        │\n",
       "│ 204821206    ┆ 2                 ┆ 0        │\n",
       "│ 192024382    ┆ 3                 ┆ 1        │\n",
       "│ …            ┆ …                 ┆ …        │\n",
       "│ 192034674    ┆ 3                 ┆ -1       │\n",
       "│ 204137561    ┆ 2                 ┆ 0        │\n",
       "│ 200840380    ┆ 2                 ┆ 0        │\n",
       "│ 190569355    ┆ 2                 ┆ 0        │\n",
       "│ 193518104    ┆ 9                 ┆ -3       │\n",
       "└──────────────┴───────────────────┴──────────┘"
      ]
     },
     "execution_count": 46,
     "metadata": {},
     "output_type": "execute_result"
    }
   ],
   "source": [
    "transactions2s = transactions2.filter(pl.col('transaction_count') != abs(pl.col('sum_sign')))\n",
    "transactions2s"
   ]
  },
  {
   "cell_type": "code",
   "execution_count": 35,
   "metadata": {},
   "outputs": [
    {
     "data": {
      "text/html": [
       "<div><style>\n",
       ".dataframe > thead > tr,\n",
       ".dataframe > tbody > tr {\n",
       "  text-align: right;\n",
       "  white-space: pre-wrap;\n",
       "}\n",
       "</style>\n",
       "<small>shape: (1, 2)</small><table border=\"1\" class=\"dataframe\"><thead><tr><th>block_number</th><th>transaction_count</th></tr><tr><td>i64</td><td>u32</td></tr></thead><tbody><tr><td>195671979</td><td>5</td></tr></tbody></table></div>"
      ],
      "text/plain": [
       "shape: (1, 2)\n",
       "┌──────────────┬───────────────────┐\n",
       "│ block_number ┆ transaction_count │\n",
       "│ ---          ┆ ---               │\n",
       "│ i64          ┆ u32               │\n",
       "╞══════════════╪═══════════════════╡\n",
       "│ 195671979    ┆ 5                 │\n",
       "└──────────────┴───────────────────┘"
      ]
     },
     "execution_count": 35,
     "metadata": {},
     "output_type": "execute_result"
    }
   ],
   "source": [
    "transactions2[200_090]"
   ]
  },
  {
   "cell_type": "code",
   "execution_count": 49,
   "metadata": {},
   "outputs": [
    {
     "data": {
      "text/html": [
       "<div><style>\n",
       ".dataframe > thead > tr,\n",
       ".dataframe > tbody > tr {\n",
       "  text-align: right;\n",
       "  white-space: pre-wrap;\n",
       "}\n",
       "</style>\n",
       "<small>shape: (2, 19)</small><table border=\"1\" class=\"dataframe\"><thead><tr><th>transaction_hash</th><th>transaction_index</th><th>log_index</th><th>block_number</th><th>block_timestamp</th><th>gas_price</th><th>amount_ETH</th><th>amount_USD</th><th>sqrtPriceX96</th><th>tick</th><th>liquidity</th><th>effective_price</th><th>spot_price</th><th>reserve_ETH</th><th>reserve_USD</th><th>CEX_price</th><th>gas_fee_gwei</th><th>gas_fee_USD</th><th>sign</th></tr><tr><td>str</td><td>i64</td><td>i64</td><td>i64</td><td>datetime[μs]</td><td>i64</td><td>f64</td><td>f64</td><td>f64</td><td>i64</td><td>f64</td><td>f64</td><td>f64</td><td>f64</td><td>f64</td><td>f64</td><td>f64</td><td>f64</td><td>i32</td></tr></thead><tbody><tr><td>&quot;0xebe44a6357da…</td><td>4</td><td>88</td><td>204137561</td><td>2024-04-23 22:26:36</td><td>10000000</td><td>-0.002117</td><td>6.811127</td><td>4.4928e24</td><td>-195562</td><td>5.2961e18</td><td>3217.325072</td><td>3215.716276</td><td>93393.558455</td><td>3.0033e8</td><td>3215.51</td><td>18146.24</td><td>0.058349</td><td>-1</td></tr><tr><td>&quot;0xa9cf37f38a51…</td><td>2</td><td>10</td><td>204137561</td><td>2024-04-23 22:26:36</td><td>10000000</td><td>0.071608</td><td>-230.154555</td><td>4.4928e24</td><td>-195562</td><td>5.2860e18</td><td>3214.110731</td><td>3215.71613</td><td>93216.028092</td><td>2.9976e8</td><td>3215.51</td><td>6535.15</td><td>0.021014</td><td>1</td></tr></tbody></table></div>"
      ],
      "text/plain": [
       "shape: (2, 19)\n",
       "┌────────────┬────────────┬───────────┬────────────┬───┬───────────┬────────────┬───────────┬──────┐\n",
       "│ transactio ┆ transactio ┆ log_index ┆ block_numb ┆ … ┆ CEX_price ┆ gas_fee_gw ┆ gas_fee_U ┆ sign │\n",
       "│ n_hash     ┆ n_index    ┆ ---       ┆ er         ┆   ┆ ---       ┆ ei         ┆ SD        ┆ ---  │\n",
       "│ ---        ┆ ---        ┆ i64       ┆ ---        ┆   ┆ f64       ┆ ---        ┆ ---       ┆ i32  │\n",
       "│ str        ┆ i64        ┆           ┆ i64        ┆   ┆           ┆ f64        ┆ f64       ┆      │\n",
       "╞════════════╪════════════╪═══════════╪════════════╪═══╪═══════════╪════════════╪═══════════╪══════╡\n",
       "│ 0xebe44a63 ┆ 4          ┆ 88        ┆ 204137561  ┆ … ┆ 3215.51   ┆ 18146.24   ┆ 0.058349  ┆ -1   │\n",
       "│ 57da67674e ┆            ┆           ┆            ┆   ┆           ┆            ┆           ┆      │\n",
       "│ e9804aff67 ┆            ┆           ┆            ┆   ┆           ┆            ┆           ┆      │\n",
       "│ 25…        ┆            ┆           ┆            ┆   ┆           ┆            ┆           ┆      │\n",
       "│ 0xa9cf37f3 ┆ 2          ┆ 10        ┆ 204137561  ┆ … ┆ 3215.51   ┆ 6535.15    ┆ 0.021014  ┆ 1    │\n",
       "│ 8a51f47e4e ┆            ┆           ┆            ┆   ┆           ┆            ┆           ┆      │\n",
       "│ cf5c0046ab ┆            ┆           ┆            ┆   ┆           ┆            ┆           ┆      │\n",
       "│ 3a…        ┆            ┆           ┆            ┆   ┆           ┆            ┆           ┆      │\n",
       "└────────────┴────────────┴───────────┴────────────┴───┴───────────┴────────────┴───────────┴──────┘"
      ]
     },
     "execution_count": 49,
     "metadata": {},
     "output_type": "execute_result"
    }
   ],
   "source": [
    "filtered_swaps = swaps_df.filter(pl.col('block_number') == 204137561)\n",
    "filtered_swaps\n"
   ]
  },
  {
   "cell_type": "code",
   "execution_count": 37,
   "metadata": {},
   "outputs": [
    {
     "data": {
      "text/html": [
       "<div><style>\n",
       ".dataframe > thead > tr,\n",
       ".dataframe > tbody > tr {\n",
       "  text-align: right;\n",
       "  white-space: pre-wrap;\n",
       "}\n",
       "</style>\n",
       "<small>shape: (2_367_361, 2)</small><table border=\"1\" class=\"dataframe\"><thead><tr><th>transaction_hash</th><th>transaction_count</th></tr><tr><td>str</td><td>u32</td></tr></thead><tbody><tr><td>&quot;0xa73592aa7608…</td><td>1</td></tr><tr><td>&quot;0x6e16ff4dd62b…</td><td>1</td></tr><tr><td>&quot;0x4798d5dd8c20…</td><td>1</td></tr><tr><td>&quot;0x74e9e315b294…</td><td>1</td></tr><tr><td>&quot;0x3b9da0371ebb…</td><td>1</td></tr><tr><td>&hellip;</td><td>&hellip;</td></tr><tr><td>&quot;0x3a19560c675d…</td><td>1</td></tr><tr><td>&quot;0xb62a4b5564c4…</td><td>1</td></tr><tr><td>&quot;0x7b8340a628ec…</td><td>1</td></tr><tr><td>&quot;0x0661d1bdbd85…</td><td>1</td></tr><tr><td>&quot;0x6ff1a1583e4b…</td><td>1</td></tr></tbody></table></div>"
      ],
      "text/plain": [
       "shape: (2_367_361, 2)\n",
       "┌───────────────────────────────────┬───────────────────┐\n",
       "│ transaction_hash                  ┆ transaction_count │\n",
       "│ ---                               ┆ ---               │\n",
       "│ str                               ┆ u32               │\n",
       "╞═══════════════════════════════════╪═══════════════════╡\n",
       "│ 0xa73592aa76083e443142f4391eaff9… ┆ 1                 │\n",
       "│ 0x6e16ff4dd62b27d1fec2e8f94fdad5… ┆ 1                 │\n",
       "│ 0x4798d5dd8c20b8e9d86c4f405e7f8a… ┆ 1                 │\n",
       "│ 0x74e9e315b29457b76236772b980458… ┆ 1                 │\n",
       "│ 0x3b9da0371ebbc732a2d8724e2168f4… ┆ 1                 │\n",
       "│ …                                 ┆ …                 │\n",
       "│ 0x3a19560c675d8d5218d9bd5c8f7b86… ┆ 1                 │\n",
       "│ 0xb62a4b5564c4f36632e25d22c8c766… ┆ 1                 │\n",
       "│ 0x7b8340a628ec9a31f8fc88859fe059… ┆ 1                 │\n",
       "│ 0x0661d1bdbd8590590c38574fc4dce4… ┆ 1                 │\n",
       "│ 0x6ff1a1583e4b30e45d280617a86280… ┆ 1                 │\n",
       "└───────────────────────────────────┴───────────────────┘"
      ]
     },
     "execution_count": 37,
     "metadata": {},
     "output_type": "execute_result"
    }
   ],
   "source": [
    "swaps = swaps_df.group_by('transaction_hash').agg(\n",
    "    pl.col('transaction_hash').count().alias('transaction_count')\n",
    ")\n",
    "swaps"
   ]
  },
  {
   "cell_type": "code",
   "execution_count": 38,
   "metadata": {},
   "outputs": [
    {
     "data": {
      "text/html": [
       "<div><style>\n",
       ".dataframe > thead > tr,\n",
       ".dataframe > tbody > tr {\n",
       "  text-align: right;\n",
       "  white-space: pre-wrap;\n",
       "}\n",
       "</style>\n",
       "<small>shape: (14_013, 2)</small><table border=\"1\" class=\"dataframe\"><thead><tr><th>transaction_hash</th><th>transaction_count</th></tr><tr><td>str</td><td>u32</td></tr></thead><tbody><tr><td>&quot;0xcf98e038dca5…</td><td>2</td></tr><tr><td>&quot;0x7e916484f40c…</td><td>2</td></tr><tr><td>&quot;0x75efcfc989b0…</td><td>2</td></tr><tr><td>&quot;0x5414386b52b3…</td><td>2</td></tr><tr><td>&quot;0x7419c00b5ee5…</td><td>2</td></tr><tr><td>&hellip;</td><td>&hellip;</td></tr><tr><td>&quot;0x3b51912a622d…</td><td>23</td></tr><tr><td>&quot;0xe923ef38dd9f…</td><td>23</td></tr><tr><td>&quot;0xa2271a9c2441…</td><td>23</td></tr><tr><td>&quot;0x63e3fee45651…</td><td>23</td></tr><tr><td>&quot;0xaf3d5e12b710…</td><td>23</td></tr></tbody></table></div>"
      ],
      "text/plain": [
       "shape: (14_013, 2)\n",
       "┌───────────────────────────────────┬───────────────────┐\n",
       "│ transaction_hash                  ┆ transaction_count │\n",
       "│ ---                               ┆ ---               │\n",
       "│ str                               ┆ u32               │\n",
       "╞═══════════════════════════════════╪═══════════════════╡\n",
       "│ 0xcf98e038dca5245bb5031b7a6e9e4d… ┆ 2                 │\n",
       "│ 0x7e916484f40c10465fa98f1cecb81a… ┆ 2                 │\n",
       "│ 0x75efcfc989b0d9636a97dc3098aa79… ┆ 2                 │\n",
       "│ 0x5414386b52b3eed0fef8f64250f521… ┆ 2                 │\n",
       "│ 0x7419c00b5ee5416150ec685569e145… ┆ 2                 │\n",
       "│ …                                 ┆ …                 │\n",
       "│ 0x3b51912a622db16f9b6915e30d3b84… ┆ 23                │\n",
       "│ 0xe923ef38dd9f8907713d447f65ea56… ┆ 23                │\n",
       "│ 0xa2271a9c24411b6fb3c2d36f227743… ┆ 23                │\n",
       "│ 0x63e3fee45651ff825ac90a31b746c2… ┆ 23                │\n",
       "│ 0xaf3d5e12b710634425a9b1603dfa59… ┆ 23                │\n",
       "└───────────────────────────────────┴───────────────────┘"
      ]
     },
     "execution_count": 38,
     "metadata": {},
     "output_type": "execute_result"
    }
   ],
   "source": [
    "swaps2 = swaps.filter(pl.col('transaction_count') > 1)\n",
    "swaps2.sort(pl.col('transaction_count'))"
   ]
  },
  {
   "cell_type": "code",
   "execution_count": 39,
   "metadata": {},
   "outputs": [],
   "source": [
    "nr = 7_018"
   ]
  },
  {
   "cell_type": "code",
   "execution_count": 40,
   "metadata": {},
   "outputs": [
    {
     "data": {
      "text/plain": [
       "'0xbd001bb4703a2c38a2eee639d6c7d0a5ade6570204178ab6749297ceb3843f27'"
      ]
     },
     "execution_count": 40,
     "metadata": {},
     "output_type": "execute_result"
    }
   ],
   "source": [
    "swaps2[nr]['transaction_hash'][0]"
   ]
  },
  {
   "cell_type": "code",
   "execution_count": 41,
   "metadata": {},
   "outputs": [
    {
     "data": {
      "text/html": [
       "<div><style>\n",
       ".dataframe > thead > tr,\n",
       ".dataframe > tbody > tr {\n",
       "  text-align: right;\n",
       "  white-space: pre-wrap;\n",
       "}\n",
       "</style>\n",
       "<small>shape: (10, 18)</small><table border=\"1\" class=\"dataframe\"><thead><tr><th>transaction_hash</th><th>transaction_index</th><th>log_index</th><th>block_number</th><th>block_timestamp</th><th>gas_price</th><th>amount_ETH</th><th>amount_USD</th><th>sqrtPriceX96</th><th>tick</th><th>liquidity</th><th>effective_price</th><th>spot_price</th><th>reserve_ETH</th><th>reserve_USD</th><th>CEX_price</th><th>gas_fee_gwei</th><th>gas_fee_USD</th></tr><tr><td>str</td><td>i64</td><td>i64</td><td>i64</td><td>datetime[μs]</td><td>i64</td><td>f64</td><td>f64</td><td>f64</td><td>i64</td><td>f64</td><td>f64</td><td>f64</td><td>f64</td><td>f64</td><td>f64</td><td>f64</td><td>f64</td></tr></thead><tbody><tr><td>&quot;0xbd001bb4703a…</td><td>3</td><td>310</td><td>205388667</td><td>2024-04-27 15:00:29</td><td>11000000</td><td>0.003485</td><td>-10.963758</td><td>4.4453e24</td><td>-195775</td><td>5.3820e18</td><td>3146.430877</td><td>3148.00478</td><td>95923.758757</td><td>3.0197e8</td><td>3147.4</td><td>134117.379</td><td>0.422121</td></tr><tr><td>&quot;0xbd001bb4703a…</td><td>3</td><td>293</td><td>205388667</td><td>2024-04-27 15:00:29</td><td>11000000</td><td>-0.003738</td><td>11.773493</td><td>4.4453e24</td><td>-195775</td><td>5.3820e18</td><td>3149.579744</td><td>3148.005009</td><td>95923.755274</td><td>3.0197e8</td><td>3147.4</td><td>134117.379</td><td>0.422121</td></tr><tr><td>&quot;0xbd001bb4703a…</td><td>3</td><td>403</td><td>205388667</td><td>2024-04-27 15:00:29</td><td>11000000</td><td>0.002026</td><td>-6.37598</td><td>4.4453e24</td><td>-195775</td><td>5.3820e18</td><td>3146.430773</td><td>3148.004752</td><td>95923.759187</td><td>3.0197e8</td><td>3147.4</td><td>134117.379</td><td>0.422121</td></tr><tr><td>&quot;0xbd001bb4703a…</td><td>3</td><td>172</td><td>205388667</td><td>2024-04-27 15:00:29</td><td>11000000</td><td>-0.000052</td><td>0.164739</td><td>4.4453e24</td><td>-195775</td><td>5.3820e18</td><td>3149.591618</td><td>3148.00477</td><td>95923.758915</td><td>3.0197e8</td><td>3147.4</td><td>134117.379</td><td>0.422121</td></tr><tr><td>&quot;0xbd001bb4703a…</td><td>3</td><td>219</td><td>205388667</td><td>2024-04-27 15:00:29</td><td>11000000</td><td>0.000097</td><td>-0.305929</td><td>4.4453e24</td><td>-195775</td><td>5.3820e18</td><td>3146.421217</td><td>3148.004763</td><td>95923.759012</td><td>3.0197e8</td><td>3147.4</td><td>134117.379</td><td>0.422121</td></tr><tr><td>&quot;0xbd001bb4703a…</td><td>3</td><td>327</td><td>205388667</td><td>2024-04-27 15:00:29</td><td>11000000</td><td>0.001637</td><td>-5.149801</td><td>4.4453e24</td><td>-195775</td><td>5.3820e18</td><td>3146.430278</td><td>3148.004673</td><td>95923.760393</td><td>3.0197e8</td><td>3147.4</td><td>134117.379</td><td>0.422121</td></tr><tr><td>&quot;0xbd001bb4703a…</td><td>3</td><td>386</td><td>205388667</td><td>2024-04-27 15:00:29</td><td>11000000</td><td>-0.002184</td><td>6.879144</td><td>4.4453e24</td><td>-195775</td><td>5.3820e18</td><td>3149.579799</td><td>3148.004885</td><td>95923.757161</td><td>3.0197e8</td><td>3147.4</td><td>134117.379</td><td>0.422121</td></tr><tr><td>&quot;0xbd001bb4703a…</td><td>3</td><td>83</td><td>205388667</td><td>2024-04-27 15:00:29</td><td>11000000</td><td>0.000094</td><td>-0.29535</td><td>4.4453e24</td><td>-195775</td><td>5.3820e18</td><td>3146.42821</td><td>3148.004766</td><td>95923.758967</td><td>3.0197e8</td><td>3147.4</td><td>134117.379</td><td>0.422121</td></tr><tr><td>&quot;0xbd001bb4703a…</td><td>3</td><td>28</td><td>205388667</td><td>2024-04-27 15:00:29</td><td>11000000</td><td>-0.000098</td><td>0.309303</td><td>4.4453e24</td><td>-195775</td><td>5.3820e18</td><td>3149.58311</td><td>3148.004773</td><td>95923.758873</td><td>3.0197e8</td><td>3147.4</td><td>134117.379</td><td>0.422121</td></tr><tr><td>&quot;0xbd001bb4703a…</td><td>3</td><td>362</td><td>205388667</td><td>2024-04-27 15:00:29</td><td>11000000</td><td>-0.001047</td><td>3.297956</td><td>4.4453e24</td><td>-195775</td><td>5.3820e18</td><td>3149.579518</td><td>3148.004742</td><td>95923.759346</td><td>3.0197e8</td><td>3147.4</td><td>134117.379</td><td>0.422121</td></tr></tbody></table></div>"
      ],
      "text/plain": [
       "shape: (10, 18)\n",
       "┌───────────┬───────────┬───────────┬───────────┬───┬───────────┬───────────┬───────────┬──────────┐\n",
       "│ transacti ┆ transacti ┆ log_index ┆ block_num ┆ … ┆ reserve_U ┆ CEX_price ┆ gas_fee_g ┆ gas_fee_ │\n",
       "│ on_hash   ┆ on_index  ┆ ---       ┆ ber       ┆   ┆ SD        ┆ ---       ┆ wei       ┆ USD      │\n",
       "│ ---       ┆ ---       ┆ i64       ┆ ---       ┆   ┆ ---       ┆ f64       ┆ ---       ┆ ---      │\n",
       "│ str       ┆ i64       ┆           ┆ i64       ┆   ┆ f64       ┆           ┆ f64       ┆ f64      │\n",
       "╞═══════════╪═══════════╪═══════════╪═══════════╪═══╪═══════════╪═══════════╪═══════════╪══════════╡\n",
       "│ 0xbd001bb ┆ 3         ┆ 310       ┆ 205388667 ┆ … ┆ 3.0197e8  ┆ 3147.4    ┆ 134117.37 ┆ 0.422121 │\n",
       "│ 4703a2c38 ┆           ┆           ┆           ┆   ┆           ┆           ┆ 9         ┆          │\n",
       "│ a2eee639d ┆           ┆           ┆           ┆   ┆           ┆           ┆           ┆          │\n",
       "│ 6c7d0…    ┆           ┆           ┆           ┆   ┆           ┆           ┆           ┆          │\n",
       "│ 0xbd001bb ┆ 3         ┆ 293       ┆ 205388667 ┆ … ┆ 3.0197e8  ┆ 3147.4    ┆ 134117.37 ┆ 0.422121 │\n",
       "│ 4703a2c38 ┆           ┆           ┆           ┆   ┆           ┆           ┆ 9         ┆          │\n",
       "│ a2eee639d ┆           ┆           ┆           ┆   ┆           ┆           ┆           ┆          │\n",
       "│ 6c7d0…    ┆           ┆           ┆           ┆   ┆           ┆           ┆           ┆          │\n",
       "│ 0xbd001bb ┆ 3         ┆ 403       ┆ 205388667 ┆ … ┆ 3.0197e8  ┆ 3147.4    ┆ 134117.37 ┆ 0.422121 │\n",
       "│ 4703a2c38 ┆           ┆           ┆           ┆   ┆           ┆           ┆ 9         ┆          │\n",
       "│ a2eee639d ┆           ┆           ┆           ┆   ┆           ┆           ┆           ┆          │\n",
       "│ 6c7d0…    ┆           ┆           ┆           ┆   ┆           ┆           ┆           ┆          │\n",
       "│ 0xbd001bb ┆ 3         ┆ 172       ┆ 205388667 ┆ … ┆ 3.0197e8  ┆ 3147.4    ┆ 134117.37 ┆ 0.422121 │\n",
       "│ 4703a2c38 ┆           ┆           ┆           ┆   ┆           ┆           ┆ 9         ┆          │\n",
       "│ a2eee639d ┆           ┆           ┆           ┆   ┆           ┆           ┆           ┆          │\n",
       "│ 6c7d0…    ┆           ┆           ┆           ┆   ┆           ┆           ┆           ┆          │\n",
       "│ 0xbd001bb ┆ 3         ┆ 219       ┆ 205388667 ┆ … ┆ 3.0197e8  ┆ 3147.4    ┆ 134117.37 ┆ 0.422121 │\n",
       "│ 4703a2c38 ┆           ┆           ┆           ┆   ┆           ┆           ┆ 9         ┆          │\n",
       "│ a2eee639d ┆           ┆           ┆           ┆   ┆           ┆           ┆           ┆          │\n",
       "│ 6c7d0…    ┆           ┆           ┆           ┆   ┆           ┆           ┆           ┆          │\n",
       "│ 0xbd001bb ┆ 3         ┆ 327       ┆ 205388667 ┆ … ┆ 3.0197e8  ┆ 3147.4    ┆ 134117.37 ┆ 0.422121 │\n",
       "│ 4703a2c38 ┆           ┆           ┆           ┆   ┆           ┆           ┆ 9         ┆          │\n",
       "│ a2eee639d ┆           ┆           ┆           ┆   ┆           ┆           ┆           ┆          │\n",
       "│ 6c7d0…    ┆           ┆           ┆           ┆   ┆           ┆           ┆           ┆          │\n",
       "│ 0xbd001bb ┆ 3         ┆ 386       ┆ 205388667 ┆ … ┆ 3.0197e8  ┆ 3147.4    ┆ 134117.37 ┆ 0.422121 │\n",
       "│ 4703a2c38 ┆           ┆           ┆           ┆   ┆           ┆           ┆ 9         ┆          │\n",
       "│ a2eee639d ┆           ┆           ┆           ┆   ┆           ┆           ┆           ┆          │\n",
       "│ 6c7d0…    ┆           ┆           ┆           ┆   ┆           ┆           ┆           ┆          │\n",
       "│ 0xbd001bb ┆ 3         ┆ 83        ┆ 205388667 ┆ … ┆ 3.0197e8  ┆ 3147.4    ┆ 134117.37 ┆ 0.422121 │\n",
       "│ 4703a2c38 ┆           ┆           ┆           ┆   ┆           ┆           ┆ 9         ┆          │\n",
       "│ a2eee639d ┆           ┆           ┆           ┆   ┆           ┆           ┆           ┆          │\n",
       "│ 6c7d0…    ┆           ┆           ┆           ┆   ┆           ┆           ┆           ┆          │\n",
       "│ 0xbd001bb ┆ 3         ┆ 28        ┆ 205388667 ┆ … ┆ 3.0197e8  ┆ 3147.4    ┆ 134117.37 ┆ 0.422121 │\n",
       "│ 4703a2c38 ┆           ┆           ┆           ┆   ┆           ┆           ┆ 9         ┆          │\n",
       "│ a2eee639d ┆           ┆           ┆           ┆   ┆           ┆           ┆           ┆          │\n",
       "│ 6c7d0…    ┆           ┆           ┆           ┆   ┆           ┆           ┆           ┆          │\n",
       "│ 0xbd001bb ┆ 3         ┆ 362       ┆ 205388667 ┆ … ┆ 3.0197e8  ┆ 3147.4    ┆ 134117.37 ┆ 0.422121 │\n",
       "│ 4703a2c38 ┆           ┆           ┆           ┆   ┆           ┆           ┆ 9         ┆          │\n",
       "│ a2eee639d ┆           ┆           ┆           ┆   ┆           ┆           ┆           ┆          │\n",
       "│ 6c7d0…    ┆           ┆           ┆           ┆   ┆           ┆           ┆           ┆          │\n",
       "└───────────┴───────────┴───────────┴───────────┴───┴───────────┴───────────┴───────────┴──────────┘"
      ]
     },
     "execution_count": 41,
     "metadata": {},
     "output_type": "execute_result"
    }
   ],
   "source": [
    "filtered_swaps = swaps_df.filter(pl.col('transaction_hash') == swaps2[nr]['transaction_hash'][0])\n",
    "filtered_swaps"
   ]
  }
 ],
 "metadata": {
  "kernelspec": {
   "display_name": "Python 3",
   "language": "python",
   "name": "python3"
  },
  "language_info": {
   "codemirror_mode": {
    "name": "ipython",
    "version": 3
   },
   "file_extension": ".py",
   "mimetype": "text/x-python",
   "name": "python",
   "nbconvert_exporter": "python",
   "pygments_lexer": "ipython3",
   "version": "3.9.6"
  },
  "orig_nbformat": 4
 },
 "nbformat": 4,
 "nbformat_minor": 2
}
