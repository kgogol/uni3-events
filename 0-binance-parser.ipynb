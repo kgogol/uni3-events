{
 "cells": [
  {
   "cell_type": "code",
   "execution_count": 38,
   "metadata": {},
   "outputs": [],
   "source": [
    "import os\n",
    "import pandas as pd\n",
    "import polars as pl\n"
   ]
  },
  {
   "cell_type": "code",
   "execution_count": null,
   "metadata": {},
   "outputs": [],
   "source": [
    "\n",
    "# Assuming all files are in the same directory\n",
    "folder_path = './raw_data/binance-eth-usd'\n",
    "\n",
    "# List all files in the directory\n",
    "files = os.listdir(folder_path)\n",
    "\n",
    "# Initialize an empty list to store DataFrames\n",
    "dfs = []\n",
    "\n",
    "# Read each file and append its DataFrame to the list\n",
    "for file in files:\n",
    "    if file.endswith('.csv'):  # Adjust file format if needed\n",
    "        file_path = os.path.join(folder_path, file)\n",
    "        df = pd.read_csv(file_path, header=None) \n",
    "        dfs.append(pl.from_pandas(df))  # Convert pandas DataFrame to polars DataFrame\n",
    "\n",
    "# Concatenate all DataFrames in the list\n",
    "combined_df = pl.concat(dfs)\n",
    "\n",
    "# Save the combined DataFrame as a parquet file\n",
    "combined_df.write_parquet('./data/raw-usd-eth.parquet')\n"
   ]
  },
  {
   "cell_type": "code",
   "execution_count": 39,
   "metadata": {},
   "outputs": [
    {
     "name": "stdout",
     "output_type": "stream",
     "text": [
      "shape: (11_664_000, 2)\n",
      "┌─────────────────────┬─────────┐\n",
      "│ timestamp           ┆ price   │\n",
      "│ ---                 ┆ ---     │\n",
      "│ datetime[ms]        ┆ f64     │\n",
      "╞═════════════════════╪═════════╡\n",
      "│ 2023-12-31 00:00:00 ┆ 2291.17 │\n",
      "│ 2023-12-31 00:00:01 ┆ 2291.78 │\n",
      "│ 2023-12-31 00:00:02 ┆ 2291.78 │\n",
      "│ 2023-12-31 00:00:03 ┆ 2291.78 │\n",
      "│ 2023-12-31 00:00:04 ┆ 2291.78 │\n",
      "│ …                   ┆ …       │\n",
      "│ 2024-05-13 23:59:55 ┆ 2950.56 │\n",
      "│ 2024-05-13 23:59:56 ┆ 2950.56 │\n",
      "│ 2024-05-13 23:59:57 ┆ 2950.56 │\n",
      "│ 2024-05-13 23:59:58 ┆ 2950.56 │\n",
      "│ 2024-05-13 23:59:59 ┆ 2950.56 │\n",
      "└─────────────────────┴─────────┘\n"
     ]
    }
   ],
   "source": [
    "# Lazily read the Parquet file into a polars DataFrame\n",
    "parquet_file_path = './data/raw-usd-eth.parquet'\n",
    "df = (\n",
    "    pl.scan_parquet(parquet_file_path).collect(streaming=True)\n",
    "    .select([\n",
    "        pl.col('0').alias('timestamp'),  # Rename the first column to 'timestamp'\n",
    "        pl.col('1').alias('price')       # Rename the second column to 'price'\n",
    "    ])\n",
    "   .with_columns(\n",
    "       pl.from_epoch(\"timestamp\", time_unit=\"ms\")\n",
    "   )\n",
    ")\n",
    "\n",
    "df = df.sort('timestamp')\n",
    "\n",
    "\n",
    "df.write_parquet('./data/usd-eth.parquet')\n",
    "\n",
    "# Now you can work with the eager DataFrame\n",
    "print(df)"
   ]
  },
  {
   "cell_type": "code",
   "execution_count": 41,
   "metadata": {},
   "outputs": [
    {
     "name": "stdout",
     "output_type": "stream",
     "text": [
      "There are 11664000 prices in our dataset.\n",
      "Minimum Timestamp: 2023-12-31 00:00:00\n",
      "Maximum Timestamp: 2024-05-13 23:59:59\n",
      "Minimum Price: 2108.49\n",
      "Maximum Price: 4094.01\n",
      "shape: (11_664_000, 2)\n",
      "┌─────────────────────┬─────────┐\n",
      "│ timestamp           ┆ price   │\n",
      "│ ---                 ┆ ---     │\n",
      "│ datetime[ms]        ┆ f64     │\n",
      "╞═════════════════════╪═════════╡\n",
      "│ 2023-12-31 00:00:00 ┆ 2291.17 │\n",
      "│ 2023-12-31 00:00:01 ┆ 2291.78 │\n",
      "│ 2023-12-31 00:00:02 ┆ 2291.78 │\n",
      "│ 2023-12-31 00:00:03 ┆ 2291.78 │\n",
      "│ 2023-12-31 00:00:04 ┆ 2291.78 │\n",
      "│ …                   ┆ …       │\n",
      "│ 2024-05-13 23:59:55 ┆ 2950.56 │\n",
      "│ 2024-05-13 23:59:56 ┆ 2950.56 │\n",
      "│ 2024-05-13 23:59:57 ┆ 2950.56 │\n",
      "│ 2024-05-13 23:59:58 ┆ 2950.56 │\n",
      "│ 2024-05-13 23:59:59 ┆ 2950.56 │\n",
      "└─────────────────────┴─────────┘\n"
     ]
    }
   ],
   "source": [
    "# Lazily read the Parquet file into a polars DataFrame\n",
    "parquet_file_path = './data/usd-eth.parquet'\n",
    "df = pl.scan_parquet(parquet_file_path).collect(streaming=True)\n",
    "\n",
    "print(\"There are {} prices in our dataset.\".format(\n",
    "    df.shape[0]))\n",
    "\n",
    "print(\"Minimum Timestamp:\", df['timestamp'].min())\n",
    "print(\"Maximum Timestamp:\", df['timestamp'].max())\n",
    "print(\"Minimum Price:\", df['price'].min())\n",
    "print(\"Maximum Price:\", df['price'].max())\n",
    "\n",
    "# Now you can work with the eager DataFrame\n",
    "print(df)"
   ]
  }
 ],
 "metadata": {
  "kernelspec": {
   "display_name": "Python 3",
   "language": "python",
   "name": "python3"
  },
  "language_info": {
   "codemirror_mode": {
    "name": "ipython",
    "version": 3
   },
   "file_extension": ".py",
   "mimetype": "text/x-python",
   "name": "python",
   "nbconvert_exporter": "python",
   "pygments_lexer": "ipython3",
   "version": "3.9.6"
  },
  "orig_nbformat": 4
 },
 "nbformat": 4,
 "nbformat_minor": 2
}
